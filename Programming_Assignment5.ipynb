{
 "cells": [
  {
   "cell_type": "markdown",
   "id": "7e27faa7",
   "metadata": {},
   "source": [
    "1.Write a Python Program to Find LCM?"
   ]
  },
  {
   "cell_type": "code",
   "execution_count": 11,
   "id": "423f0a7c",
   "metadata": {},
   "outputs": [
    {
     "name": "stdout",
     "output_type": "stream",
     "text": [
      "Enter the first value:4\n",
      "Enter the second value:3\n",
      "LCM is 12\n"
     ]
    }
   ],
   "source": [
    "x = int(input(\"Enter the first value:\"))\n",
    "y = int(input(\"Enter the second value:\"))\n",
    "max = 0 \n",
    "\n",
    "if x> y :\n",
    "    max = x\n",
    "else :\n",
    "    max = y\n",
    "while(True) :\n",
    "    if (max%x == 0) and (max%y==0) :\n",
    "        lcm = max\n",
    "        print(\"LCM is\",lcm)\n",
    "        break\n",
    "           \n",
    "    else :\n",
    "        max+=1\n"
   ]
  },
  {
   "cell_type": "markdown",
   "id": "eacd6573",
   "metadata": {},
   "source": [
    "2.Write a Python Program to Find HCF?"
   ]
  },
  {
   "cell_type": "code",
   "execution_count": 13,
   "id": "62fa904f",
   "metadata": {},
   "outputs": [
    {
     "name": "stdout",
     "output_type": "stream",
     "text": [
      "Enter the first value:12\n",
      "Enter the second value:36\n",
      "HCF is 12\n"
     ]
    }
   ],
   "source": [
    "num1 = int(input(\"Enter the first value:\"))\n",
    "num2 = int(input(\"Enter the second value:\"))\n",
    "\n",
    "if num1>num2 :\n",
    "    val = num2\n",
    "else :\n",
    "    val = num1\n",
    "for i in range(1,val+1) :\n",
    "    if num1%i == 0 and num2%i ==0 :\n",
    "        hcf = i \n",
    "print(f\"HCF is {hcf}\")        \n",
    "\n",
    "        \n",
    "        "
   ]
  },
  {
   "cell_type": "markdown",
   "id": "076306fd",
   "metadata": {},
   "source": [
    "3.Write a Python Program to Convert Decimal to Binary, Octal and Hexadecimal?"
   ]
  },
  {
   "cell_type": "code",
   "execution_count": 5,
   "id": "98d0aae0",
   "metadata": {},
   "outputs": [
    {
     "name": "stdout",
     "output_type": "stream",
     "text": [
      "Enter the number:344\n",
      "Binary is: 0b101011000 \n",
      "Octal is: 0o530 \n",
      "Hexadecimal is: 0x158\n"
     ]
    }
   ],
   "source": [
    "decimal = int(input(\"Enter the number:\")) \n",
    "print(\"Binary is:\",bin(decimal),\"\\nOctal is:\",oct(decimal),\"\\nHexadecimal is:\",hex(decimal))"
   ]
  },
  {
   "cell_type": "markdown",
   "id": "614f9197",
   "metadata": {},
   "source": [
    "4.Write a Python Program To Find ASCII value of a character?"
   ]
  },
  {
   "cell_type": "code",
   "execution_count": 9,
   "id": "3bf2af19",
   "metadata": {},
   "outputs": [
    {
     "name": "stdout",
     "output_type": "stream",
     "text": [
      "Enter the character:M\n",
      "ASCII value of M is 77\n"
     ]
    }
   ],
   "source": [
    "#ans\n",
    "ascii_val = input(\"Enter the character:\")\n",
    "val = ord(ascii_val)\n",
    "print(f\"ASCII value of {ascii_val} is {val}\")"
   ]
  },
  {
   "cell_type": "markdown",
   "id": "91bf9380",
   "metadata": {},
   "source": [
    "5.Write a Python Program to Make a Simple Calculator with 4 basic mathematical operations?"
   ]
  },
  {
   "cell_type": "code",
   "execution_count": 10,
   "id": "0ecf97cf",
   "metadata": {},
   "outputs": [
    {
     "name": "stdout",
     "output_type": "stream",
     "text": [
      "Enter first number:24\n",
      "Enter second number:36\n",
      "Enter the operation you want to perform (+ - / * ):/\n",
      "24.0/36.0 = 0.6666666666666666\n"
     ]
    }
   ],
   "source": [
    "a = float(input(\"Enter first number:\"))\n",
    "b = float(input(\"Enter second number:\"))\n",
    "sum = a+b\n",
    "sub = a-b\n",
    "multi = a*b\n",
    "div=a/b\n",
    "operation = input(\"Enter the operation you want to perform (+ - / * ):\")\n",
    "if operation == \"+\" :\n",
    "    print(f\"{a}+{b} = {a+b}\")\n",
    "elif operation == '-' :\n",
    "    print(f\"{a}-{b} = {a-b}\")\n",
    "elif operation == '/' :\n",
    "    print(f\"{a}/{b} = {a/b}\")\n",
    "elif operation == '*' :\n",
    "    print(f\"{a}*{b} = {a*b}\")\n",
    "else :\n",
    "    print(\"Enter a valid operation\")"
   ]
  },
  {
   "cell_type": "code",
   "execution_count": 22,
   "id": "94a48f96",
   "metadata": {},
   "outputs": [],
   "source": []
  },
  {
   "cell_type": "code",
   "execution_count": null,
   "id": "46044afa",
   "metadata": {},
   "outputs": [],
   "source": []
  }
 ],
 "metadata": {
  "kernelspec": {
   "display_name": "Python 3 (ipykernel)",
   "language": "python",
   "name": "python3"
  },
  "language_info": {
   "codemirror_mode": {
    "name": "ipython",
    "version": 3
   },
   "file_extension": ".py",
   "mimetype": "text/x-python",
   "name": "python",
   "nbconvert_exporter": "python",
   "pygments_lexer": "ipython3",
   "version": "3.9.13"
  }
 },
 "nbformat": 4,
 "nbformat_minor": 5
}

{
 "cells": [
  {
   "cell_type": "markdown",
   "id": "d6a432d3",
   "metadata": {},
   "source": [
    "1.Write a Python program to convert kilometers to miles?"
   ]
  },
  {
   "cell_type": "code",
   "execution_count": 7,
   "id": "61a2bf37",
   "metadata": {},
   "outputs": [
    {
     "name": "stdout",
     "output_type": "stream",
     "text": [
      "Enter the distance in kilometer:100\n",
      "100 kilometer is 62.137 miles\n"
     ]
    }
   ],
   "source": [
    "#ans\n",
    "kilometer = int(input(\"Enter the distance in kilometer:\"))\n",
    "miles = kilometer*0.62137\n",
    "print(f\"{kilometer} kilometer is {miles} miles\")"
   ]
  },
  {
   "cell_type": "markdown",
   "id": "e5ec4c2c",
   "metadata": {},
   "source": [
    "2.Write a Python program to convert Celsius to Fahrenheit?"
   ]
  },
  {
   "cell_type": "code",
   "execution_count": 8,
   "id": "4ed11d5c",
   "metadata": {},
   "outputs": [
    {
     "name": "stdout",
     "output_type": "stream",
     "text": [
      "Enter the degree in celsius:18\n",
      "18 celsius is 64.4 Farenheit\n"
     ]
    }
   ],
   "source": [
    "#ans\n",
    "celsius =int(input(\"Enter the degree in celsius:\"))\n",
    "Farenheit = (celsius*1.8)+32\n",
    "print(f\"{celsius} celsius is {Farenheit} Farenheit\")"
   ]
  },
  {
   "cell_type": "markdown",
   "id": "4da0a49d",
   "metadata": {},
   "source": [
    "3.Write a Python program to display calendar?"
   ]
  },
  {
   "cell_type": "code",
   "execution_count": 11,
   "id": "e6a55957",
   "metadata": {},
   "outputs": [
    {
     "name": "stdout",
     "output_type": "stream",
     "text": [
      "Enter the year:2011\n",
      "Enter the month in number:2\n",
      "   February 2011\n",
      "Mo Tu We Th Fr Sa Su\n",
      "    1  2  3  4  5  6\n",
      " 7  8  9 10 11 12 13\n",
      "14 15 16 17 18 19 20\n",
      "21 22 23 24 25 26 27\n",
      "28\n",
      "\n"
     ]
    }
   ],
   "source": [
    "#ans\n",
    "import calendar\n",
    "year = int(input(\"Enter the year:\"))\n",
    "month = int(input(\"Enter the month in number:\"))\n",
    "print(calendar.month(year,month))"
   ]
  },
  {
   "cell_type": "markdown",
   "id": "bf8c92d2",
   "metadata": {},
   "source": [
    "4.Write a Python program to solve quadratic equation?"
   ]
  },
  {
   "cell_type": "code",
   "execution_count": 1,
   "id": "c62bacad",
   "metadata": {},
   "outputs": [
    {
     "name": "stdout",
     "output_type": "stream",
     "text": [
      "Enter the value a:0\n",
      "Enter a valid value\n",
      "Enter the value a:2\n",
      "Enter the value b:9\n",
      "Enter the value c:-5\n",
      "The Square root is: 0.5 and -5.0\n"
     ]
    }
   ],
   "source": [
    "#ans\n",
    "import math\n",
    "a = int(input(\"Enter the value a:\"))\n",
    "if a == 0 :\n",
    "    print(\"Enter a valid value\")\n",
    "    a = int(input(\"Enter the value a:\"))\n",
    "    \n",
    "b = int(input(\"Enter the value b:\"))\n",
    "c = int(input(\"Enter the value c:\"))\n",
    "value = (b**2)-4*(a*c)\n",
    "first_half = math.sqrt(value)\n",
    "quad_equ1 = ((-b+math.sqrt(value))/(2*a))\n",
    "quad_equ2 = ((-b-math.sqrt(value))/(2*a))\n",
    "print(f\"The Square root is: {quad_equ1} and {quad_equ2}\")\n"
   ]
  },
  {
   "cell_type": "markdown",
   "id": "d8d97d88",
   "metadata": {},
   "source": [
    "5.Write a Python program to swap two variables without temp variable?"
   ]
  },
  {
   "cell_type": "code",
   "execution_count": 6,
   "id": "44c973d5",
   "metadata": {},
   "outputs": [
    {
     "name": "stdout",
     "output_type": "stream",
     "text": [
      "Enter 'a' value:24\n",
      "Enter 'b' value:35\n",
      "Before swapping: 24 , 35\n",
      "After swapping: 35 , 24\n"
     ]
    }
   ],
   "source": [
    "#ans\n",
    "var_a = int(input(\"Enter 'a' value:\"))\n",
    "var_b = int(input(\"Enter 'b' value:\"))\n",
    "print(f\"Before swapping: {var_a } , {var_b}\")\n",
    "var_a ,var_b = var_b,var_a \n",
    "print(f\"After swapping: {var_a } , {var_b}\")"
   ]
  },
  {
   "cell_type": "code",
   "execution_count": null,
   "id": "a390a3fb",
   "metadata": {},
   "outputs": [],
   "source": []
  }
 ],
 "metadata": {
  "kernelspec": {
   "display_name": "Python 3 (ipykernel)",
   "language": "python",
   "name": "python3"
  },
  "language_info": {
   "codemirror_mode": {
    "name": "ipython",
    "version": 3
   },
   "file_extension": ".py",
   "mimetype": "text/x-python",
   "name": "python",
   "nbconvert_exporter": "python",
   "pygments_lexer": "ipython3",
   "version": "3.9.13"
  }
 },
 "nbformat": 4,
 "nbformat_minor": 5
}

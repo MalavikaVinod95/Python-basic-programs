{
 "cells": [
  {
   "cell_type": "markdown",
   "id": "4576339f",
   "metadata": {},
   "source": [
    "1.Write a Python program to Extract Unique values dictionary values?"
   ]
  },
  {
   "cell_type": "code",
   "execution_count": 8,
   "id": "8cb47a76",
   "metadata": {},
   "outputs": [
    {
     "name": "stdout",
     "output_type": "stream",
     "text": [
      "Enter the key: 1\n",
      "Enter the value: John\n",
      "Enter the key: 2\n",
      "Enter the value: jacob\n",
      "Enter the key: 3\n",
      "Enter the value: Neha\n",
      "Enter the key: 4\n",
      "Enter the value: Jacob\n",
      "Enter the key: 5\n",
      "Enter the value: Jose\n",
      "The items are: {'1': 'John', '2': 'jacob', '3': 'Neha', '4': 'Jacob', '5': 'Jose'}\n",
      "Unique values are:  {'jacob', 'jose', 'john', 'neha'}\n"
     ]
    }
   ],
   "source": [
    "items1 = {}\n",
    "for i in range(5) :\n",
    "    key1 = input(\"Enter the key: \")\n",
    "    value1 = input(\"Enter the value: \")\n",
    "    items1[key1]=value1\n",
    "print(\"The items are:\",items1)\n",
    "new_items =list()\n",
    "for i in items1.values() :\n",
    "    new_items.append(i.lower())\n",
    "print(\"Unique values are: \",set(new_items))"
   ]
  },
  {
   "cell_type": "markdown",
   "id": "51dbee33",
   "metadata": {},
   "source": [
    "2.Write a Python program to find the sum of all items in a dictionary?"
   ]
  },
  {
   "cell_type": "code",
   "execution_count": 3,
   "id": "765cab18",
   "metadata": {},
   "outputs": [
    {
     "name": "stdout",
     "output_type": "stream",
     "text": [
      "Enter the key:a\n",
      "Enter the value:11\n",
      "Enter the key:b\n",
      "Enter the value:22\n",
      "Enter the key:c\n",
      "Enter the value:33\n",
      "Enter the key:d\n",
      "Enter the value:44\n",
      "Enter the key:e\n",
      "Enter the value:55\n",
      "The sum is:  165\n"
     ]
    }
   ],
   "source": [
    "items2={}\n",
    "sum_values=0\n",
    "for i in range(5):\n",
    "    key_val = input(\"Enter the key:\")\n",
    "    value_val=int(input(\"Enter the value:\"))\n",
    "    items2[key_val]=value_val   \n",
    "    for j in items2.values():\n",
    "        pass\n",
    "    sum_values+=j\n",
    "print(\"The sum is: \",sum_values)\n",
    "    \n"
   ]
  },
  {
   "cell_type": "markdown",
   "id": "3998c440",
   "metadata": {},
   "source": [
    "3.Write a Python program to Merging two Dictionaries?"
   ]
  },
  {
   "cell_type": "code",
   "execution_count": 9,
   "id": "5e7812cd",
   "metadata": {},
   "outputs": [
    {
     "name": "stdout",
     "output_type": "stream",
     "text": [
      "{'a': 'Hello', 'b': 'There', 'c': 'Welcome', 'd': 'To', 'e': 'Programming', 'f': 'New', 'g': 'Dictionary'}\n"
     ]
    }
   ],
   "source": [
    "dict_1 = {'a':\"Hello\",'b':\"There\",'c':\"Welcome\",'d':\"To\",'e':\"Programming\"}\n",
    "dict_2 ={'f':\"New\",'g':\"Dictionary\"}\n",
    "print(dict_1|dict_2)\n"
   ]
  },
  {
   "cell_type": "markdown",
   "id": "7cccfae6",
   "metadata": {},
   "source": [
    "4.Write a Python program to convert key-values list to flat dictionary?"
   ]
  },
  {
   "cell_type": "code",
   "execution_count": 11,
   "id": "38323f55",
   "metadata": {},
   "outputs": [
    {
     "name": "stdout",
     "output_type": "stream",
     "text": [
      "{'Pascal': 1970, 'C': 1972, 'Perl': 1987, 'Python': 1991}\n"
     ]
    }
   ],
   "source": [
    "dit_itm ={}\n",
    "dict_key={\"Language\":[\"Pascal\",\"C\",\"Perl\",\"Python\"],\"Year\":[1970,1972,1987,1991]}\n",
    "dit_itm=dict(zip(dict_key['Language'],dict_key['Year']))\n",
    "print(str(dit_itm))"
   ]
  },
  {
   "cell_type": "markdown",
   "id": "61746e5c",
   "metadata": {},
   "source": [
    "5.Write a Python program to insertion at the beginning in OrderedDict?"
   ]
  },
  {
   "cell_type": "code",
   "execution_count": 1,
   "id": "4a61f497",
   "metadata": {},
   "outputs": [
    {
     "name": "stdout",
     "output_type": "stream",
     "text": [
      "OrderedDict([('A', 'Apple'), ('B', 'Bat'), ('C', 'Cat')])\n"
     ]
    }
   ],
   "source": [
    "from collections import OrderedDict\n",
    "new_dict=OrderedDict([('B',\"Bat\"),('C',\"Cat\")])\n",
    "new_dict.update({'A':\"Apple\"})\n",
    "new_dict.move_to_end('A',last=False)\n",
    "print(new_dict)"
   ]
  },
  {
   "cell_type": "markdown",
   "id": "5c9e7406",
   "metadata": {},
   "source": [
    "6.Write a Python program to check order of character in string using OrderedDict()?"
   ]
  },
  {
   "cell_type": "code",
   "execution_count": 22,
   "id": "37a1d579",
   "metadata": {},
   "outputs": [
    {
     "name": "stdout",
     "output_type": "stream",
     "text": [
      "Enter the string: Malavika Vinod\n",
      "Enter the pattern: vi\n",
      "Yes it is a match\n"
     ]
    }
   ],
   "source": [
    "from collections import OrderedDict\n",
    "input_val = input(\"Enter the string: \")\n",
    "pattern = input(\"Enter the pattern: \")\n",
    "pattern_len=0\n",
    "dict_val = OrderedDict.fromkeys(input_val.lower())\n",
    "for key in dict_val.keys() :\n",
    "    if(key==pattern[pattern_len]) :\n",
    "        pattern_len+=1\n",
    "        if pattern_len== len(pattern) :\n",
    "            print(\"Yes it is a match\")\n",
    "            break\n",
    "else :\n",
    "    print(\"It is not a match\")\n",
    "    \n",
    "    "
   ]
  },
  {
   "cell_type": "markdown",
   "id": "e5dc1699",
   "metadata": {},
   "source": [
    "7.Write a Python program to sort Python Dictionaries by Key or Value?"
   ]
  },
  {
   "cell_type": "code",
   "execution_count": 30,
   "id": "e64d8175",
   "metadata": {},
   "outputs": [
    {
     "name": "stdout",
     "output_type": "stream",
     "text": [
      "Sorted by keys ['A', 'C', 'Y', 'z']\n",
      "Sorted by values ['Apple', 'Cat', 'Yak', 'Zebra']\n"
     ]
    }
   ],
   "source": [
    "dict_val={\"z\":\"Zebra\",\"A\":\"Apple\",\"C\":\"Cat\",\"Y\":\"Yak\"}\n",
    "print(\"Sorted by keys\",sorted(dict_val.keys()))\n",
    "print(\"Sorted by values\",sorted(dict_val.values()))"
   ]
  },
  {
   "cell_type": "code",
   "execution_count": null,
   "id": "6a060b2f",
   "metadata": {},
   "outputs": [],
   "source": []
  }
 ],
 "metadata": {
  "kernelspec": {
   "display_name": "Python 3 (ipykernel)",
   "language": "python",
   "name": "python3"
  },
  "language_info": {
   "codemirror_mode": {
    "name": "ipython",
    "version": 3
   },
   "file_extension": ".py",
   "mimetype": "text/x-python",
   "name": "python",
   "nbconvert_exporter": "python",
   "pygments_lexer": "ipython3",
   "version": "3.9.13"
  }
 },
 "nbformat": 4,
 "nbformat_minor": 5
}

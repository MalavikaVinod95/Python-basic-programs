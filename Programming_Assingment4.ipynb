{
 "cells": [
  {
   "cell_type": "markdown",
   "id": "9d627611",
   "metadata": {},
   "source": [
    "1.Write a Python Program to Find the Factorial of a Number?"
   ]
  },
  {
   "cell_type": "code",
   "execution_count": 16,
   "id": "1ee21787",
   "metadata": {},
   "outputs": [
    {
     "name": "stdout",
     "output_type": "stream",
     "text": [
      "Enter the number:8\n",
      "The factorial of 8 is:40320\n"
     ]
    }
   ],
   "source": [
    "fact = int(input(\"Enter the number:\"))\n",
    "sum =1\n",
    "for i in range(1,fact+1) :\n",
    "    sum = sum*i\n",
    "print(f\"The factorial of {fact} is:{sum}\")    "
   ]
  },
  {
   "cell_type": "markdown",
   "id": "c73843c3",
   "metadata": {},
   "source": [
    "2.Write a Python Program to Display the multiplication Table?"
   ]
  },
  {
   "cell_type": "code",
   "execution_count": 12,
   "id": "2c51d538",
   "metadata": {},
   "outputs": [
    {
     "name": "stdout",
     "output_type": "stream",
     "text": [
      "Enter the number: 5\n",
      "Enter the limit: 15\n",
      "The multiplication table of 5 is: \n",
      "1 * 5 = 5\n",
      "2 * 5 = 10\n",
      "3 * 5 = 15\n",
      "4 * 5 = 20\n",
      "5 * 5 = 25\n",
      "6 * 5 = 30\n",
      "7 * 5 = 35\n",
      "8 * 5 = 40\n",
      "9 * 5 = 45\n",
      "10 * 5 = 50\n",
      "11 * 5 = 55\n",
      "12 * 5 = 60\n",
      "13 * 5 = 65\n",
      "14 * 5 = 70\n",
      "15 * 5 = 75\n"
     ]
    }
   ],
   "source": [
    "multi_val = int(input(\"Enter the number: \"))\n",
    "x = int(input(\"Enter the limit: \"))\n",
    "print(f\"The multiplication table of {multi_val} is: \")\n",
    "mult = 0\n",
    "for i in range(1,x+1) :\n",
    "    mult = i*multi_val\n",
    "    print(f\"{i} * {multi_val} = {mult}\")"
   ]
  },
  {
   "cell_type": "markdown",
   "id": "2b8839ef",
   "metadata": {},
   "source": [
    "3.Write a Python Program to Print the Fibonacci sequence?\n"
   ]
  },
  {
   "cell_type": "code",
   "execution_count": 7,
   "id": "1dc45808",
   "metadata": {},
   "outputs": [
    {
     "name": "stdout",
     "output_type": "stream",
     "text": [
      "Enter the range for the fibonacci sequence: 5\n",
      "[0, 1, 1, 2, 3]\n"
     ]
    }
   ],
   "source": [
    "limit = int(input(\"Enter the range for the fibonacci sequence: \"))\n",
    "a,b = 0,1\n",
    "count = 0\n",
    "l = list()\n",
    "while count < limit : \n",
    "    l.append(a)\n",
    "    temp = a+b\n",
    "    a = b\n",
    "    b = temp\n",
    "    count+=1\n",
    "print(l)"
   ]
  },
  {
   "cell_type": "markdown",
   "id": "8b0b1388",
   "metadata": {},
   "source": [
    "4.Write a Python Program to Check Armstrong Number?"
   ]
  },
  {
   "cell_type": "code",
   "execution_count": 6,
   "id": "e5dc999b",
   "metadata": {},
   "outputs": [
    {
     "name": "stdout",
     "output_type": "stream",
     "text": [
      "Enter the value:153\n",
      "153 is Armstrong number \n"
     ]
    }
   ],
   "source": [
    "arm_val = int(input(\"Enter the value:\"))\n",
    "len1 = len(str(arm_val))\n",
    "sum,temp,val=0,0,0\n",
    "temp = arm_val\n",
    "while temp >0 :\n",
    "    sum = temp%10\n",
    "    val+=sum**len1\n",
    "    temp = temp//10\n",
    "if arm_val == val :\n",
    "        print(f\"{arm_val} is Armstrong number \")\n",
    "else :\n",
    "        print(f\"{arm_val} is not Armstrong number\")"
   ]
  },
  {
   "cell_type": "markdown",
   "id": "47eb4414",
   "metadata": {},
   "source": [
    "5.Write a Python Program to Find Armstrong Number in an Interval?"
   ]
  },
  {
   "cell_type": "code",
   "execution_count": 17,
   "id": "63fd7b6d",
   "metadata": {},
   "outputs": [
    {
     "name": "stdout",
     "output_type": "stream",
     "text": [
      "Enter the first range: 100\n",
      "Enter the second interval: 500\n",
      "153\n",
      "370\n",
      "371\n",
      "407\n"
     ]
    }
   ],
   "source": [
    "first_interval = int(input(\"Enter the first range: \"))\n",
    "sec_interval = int(input(\"Enter the second interval: \"))\n",
    "sum =0\n",
    "for i in range(first_interval ,sec_interval+1) :\n",
    "    val = 0\n",
    "    len1 = len(str(i))\n",
    "    temp = i\n",
    "    len1 = len(str(i))\n",
    "    while temp >0 :\n",
    "        sum = temp%10\n",
    "        val+=sum**len1\n",
    "        temp = temp//10\n",
    "    if i == val :\n",
    "        print(i)\n"
   ]
  },
  {
   "cell_type": "markdown",
   "id": "1ac68974",
   "metadata": {},
   "source": [
    "6.Write a Python Program to Find the Sum of Natural Numbers?"
   ]
  },
  {
   "cell_type": "code",
   "execution_count": 10,
   "id": "3ea6bfad",
   "metadata": {},
   "outputs": [
    {
     "name": "stdout",
     "output_type": "stream",
     "text": [
      "Enter the range of the number:5\n",
      "Sum of first 5 numbers are:15\n"
     ]
    }
   ],
   "source": [
    "num = int(input(\"Enter the range of the number:\"))\n",
    "sum =0\n",
    "for i in range(1,num+1) :\n",
    "    sum = sum+i\n",
    "print(f\"Sum of first {num} numbers are:{sum}\")\n",
    "    "
   ]
  },
  {
   "cell_type": "markdown",
   "id": "2ca03b0f",
   "metadata": {},
   "source": [
    "                                   --------------------- END ----------------------------"
   ]
  }
 ],
 "metadata": {
  "kernelspec": {
   "display_name": "Python 3 (ipykernel)",
   "language": "python",
   "name": "python3"
  },
  "language_info": {
   "codemirror_mode": {
    "name": "ipython",
    "version": 3
   },
   "file_extension": ".py",
   "mimetype": "text/x-python",
   "name": "python",
   "nbconvert_exporter": "python",
   "pygments_lexer": "ipython3",
   "version": "3.9.13"
  }
 },
 "nbformat": 4,
 "nbformat_minor": 5
}

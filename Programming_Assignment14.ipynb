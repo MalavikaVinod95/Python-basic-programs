{
 "cells": [
  {
   "cell_type": "markdown",
   "id": "39500f1d",
   "metadata": {},
   "source": [
    "Question 1:\n",
    "\n",
    "\n",
    "\n",
    "Define a class with a generator which can iterate the numbers, which are divisible by 7, between a given range 0 and n.\n"
   ]
  },
  {
   "cell_type": "code",
   "execution_count": 1,
   "id": "6b880a3e",
   "metadata": {},
   "outputs": [],
   "source": [
    "#ans\n",
    "class NewOne:\n",
    "    def __init__(self,n):\n",
    "        self.n = n\n",
    "        \n",
    "    def generator(self) :\n",
    "        print(\"Numbers divisible by 7 are : \")\n",
    "        for i in range(0,(self.n)) :\n",
    "            if (i%7==0):\n",
    "                print(i, end=\" \")"
   ]
  },
  {
   "cell_type": "code",
   "execution_count": 2,
   "id": "6b52a323",
   "metadata": {},
   "outputs": [],
   "source": [
    "newone= NewOne(100)"
   ]
  },
  {
   "cell_type": "code",
   "execution_count": 3,
   "id": "788dc544",
   "metadata": {},
   "outputs": [
    {
     "name": "stdout",
     "output_type": "stream",
     "text": [
      "Numbers divisible by 7 are : \n",
      "0 7 14 21 28 35 42 49 56 63 70 77 84 91 98 "
     ]
    }
   ],
   "source": [
    "newone.generator()"
   ]
  },
  {
   "cell_type": "markdown",
   "id": "c07ab667",
   "metadata": {},
   "source": [
    "Question 2:\n",
    "Write a program to compute the frequency of the words from the input. The output should output after sorting the key alphanumerically. \n",
    "\n",
    "\n",
    "\n",
    "\n",
    "Suppose the following input is supplied to the program:\n",
    "\n",
    "\n",
    "\n",
    "\n",
    "New to Python or choosing between Python 2 and Python 3? Read Python 2 or Python 3.\n",
    "\n",
    "\n",
    "\n",
    "\n",
    "Then, the output should be:\n",
    "\n",
    "\n",
    "\n",
    "\n",
    "2:2\n",
    "\n",
    "\n",
    "\n",
    "\n",
    "3.:1\n",
    "\n",
    "\n",
    "\n",
    "\n",
    "3?:1\n",
    "\n",
    "\n",
    "\n",
    "\n",
    "New:1\n",
    "\n",
    "\n",
    "\n",
    "\n",
    "Python:5\n",
    "\n",
    "\n",
    "\n",
    "\n",
    "Read:1\n",
    "\n",
    "\n",
    "\n",
    "\n",
    "and:1\n",
    "\n",
    "\n",
    "\n",
    "\n",
    "between:1\n",
    "\n",
    "\n",
    "\n",
    "\n",
    "choosing:1\n",
    "\n",
    "\n",
    "\n",
    "\n",
    "or:2\n",
    "\n",
    "\n",
    "\n",
    "to:1\n"
   ]
  },
  {
   "cell_type": "code",
   "execution_count": 7,
   "id": "74096975",
   "metadata": {},
   "outputs": [
    {
     "name": "stdout",
     "output_type": "stream",
     "text": [
      "Enter the word: New to Python or choosing between Python 2 and Python 3? Read Python 2 or Python 3.\n",
      "2:2\n",
      "3.:1\n",
      "3?:1\n",
      "New:1\n",
      "Python:5\n",
      "Read:1\n",
      "and:1\n",
      "between:1\n",
      "choosing:1\n",
      "or:2\n",
      "to:1\n"
     ]
    }
   ],
   "source": [
    "#ans\n",
    "word = input(\"Enter the word: \")\n",
    "n_word = word.split(\" \")\n",
    "set1=set()\n",
    "s_word = sorted(set(n_word))\n",
    "for i in s_word :\n",
    "    print(f\"{i}:{n_word.count(i)}\")"
   ]
  },
  {
   "cell_type": "markdown",
   "id": "d03a49d4",
   "metadata": {},
   "source": [
    "Question 3:\n",
    "\n",
    "\n",
    "\n",
    "\n",
    "\n",
    "\n",
    "\n",
    "\n",
    "\n",
    "Define a class Person and its two child classes: Male and Female. All classes have a method \"getGender\" which can print \"Male\" for Male class and \"Female\" for Female class.\n"
   ]
  },
  {
   "cell_type": "code",
   "execution_count": 38,
   "id": "7c8ffe6b",
   "metadata": {},
   "outputs": [],
   "source": [
    "#ans\n",
    "class Person:\n",
    "    def getGender(self):\n",
    "        pass\n",
    "    \n",
    "class Male(Person):\n",
    "        def getGender(self):\n",
    "            return \"Male\"\n",
    "        \n",
    "class Female(Person):\n",
    "        def getGender(self):\n",
    "            return \"female\"\n",
    "        "
   ]
  },
  {
   "cell_type": "code",
   "execution_count": 39,
   "id": "94c80708",
   "metadata": {},
   "outputs": [],
   "source": [
    "person = Person()\n",
    "male = Male()\n",
    "female = Female()"
   ]
  },
  {
   "cell_type": "code",
   "execution_count": 40,
   "id": "d39f4ddb",
   "metadata": {},
   "outputs": [
    {
     "data": {
      "text/plain": [
       "'Male'"
      ]
     },
     "execution_count": 40,
     "metadata": {},
     "output_type": "execute_result"
    }
   ],
   "source": [
    "male.getGender()"
   ]
  },
  {
   "cell_type": "code",
   "execution_count": 41,
   "id": "8391d1b0",
   "metadata": {},
   "outputs": [
    {
     "data": {
      "text/plain": [
       "'female'"
      ]
     },
     "execution_count": 41,
     "metadata": {},
     "output_type": "execute_result"
    }
   ],
   "source": [
    "female.getGender()"
   ]
  },
  {
   "cell_type": "markdown",
   "id": "141f8b15",
   "metadata": {},
   "source": [
    "Question 4:\n",
    "Please write a program to generate all sentences where subject is in [\"I\", \"You\"] and verb is in [\"Play\", \"Love\"] and the object is in [\"Hockey\",\"Football\"].\n"
   ]
  },
  {
   "cell_type": "code",
   "execution_count": 44,
   "id": "4fccdca1",
   "metadata": {},
   "outputs": [
    {
     "name": "stdout",
     "output_type": "stream",
     "text": [
      "I Play Hockey\n",
      "I Play Football\n",
      "I Love Hockey\n",
      "I Love Football\n",
      "You Play Hockey\n",
      "You Play Football\n",
      "You Love Hockey\n",
      "You Love Football\n"
     ]
    }
   ],
   "source": [
    "#ans\n",
    "subject = [\"I\", \"You\"]\n",
    "verb = [\"Play\", \"Love\"]\n",
    "obj = [\"Hockey\",\"Football\"]\n",
    "for i in subject :\n",
    "    for j in verb :\n",
    "        for k in obj :\n",
    "            print(i,j,k, end=\"\\n\")"
   ]
  },
  {
   "cell_type": "markdown",
   "id": "d2339ff1",
   "metadata": {},
   "source": [
    "Question 5:\n",
    "Please write a program to compress and decompress the string \"hello world!hello world!hello world!hello world!\".\n"
   ]
  },
  {
   "cell_type": "code",
   "execution_count": 55,
   "id": "9ed5cef9",
   "metadata": {},
   "outputs": [
    {
     "name": "stdout",
     "output_type": "stream",
     "text": [
      "Compressed:  b'x\\x9c\\xcbH\\xcd\\xc9\\xc9W(\\xcf/\\xcaIQ\\xcc \\x82\\r\\x00\\xbd[\\x11\\xf5'\n",
      "Decompressed:  b'hello world!hello world!hello world!hello world!'\n"
     ]
    }
   ],
   "source": [
    "#ans\n",
    "import zlib\n",
    "word = b'hello world!hello world!hello world!hello world!'\n",
    "compressed = zlib.compress(word)\n",
    "decompressed = zlib.decompress(compressed)\n",
    "print(\"Compressed: \",compressed)\n",
    "print(\"Decompressed: \",decompressed)"
   ]
  },
  {
   "cell_type": "markdown",
   "id": "cba83e9f",
   "metadata": {},
   "source": [
    "Question 6:\n",
    "Please write a binary search function which searches an item in a sorted list. The function should return the index of element to be searched in the list.\n"
   ]
  },
  {
   "cell_type": "code",
   "execution_count": 18,
   "id": "c7ea96fa",
   "metadata": {},
   "outputs": [
    {
     "name": "stdout",
     "output_type": "stream",
     "text": [
      "10 is present at 6\n"
     ]
    }
   ],
   "source": [
    "#ans\n",
    "from bisect import bisect_left\n",
    "def binarySearch(a,x):\n",
    "    index=bisect_left(a,x) \n",
    "    if index!=len(a) and a[index] == x :\n",
    "        return index\n",
    "    else :\n",
    "        return -1\n",
    "    \n",
    "a  = [2,4,6,8,7,9,10,12,15,19]\n",
    "x= 10\n",
    "result = binarySearch(a,x)\n",
    "if result == -1 :\n",
    "    print(x,\"is absent\")\n",
    "else :\n",
    "    print(f\"{x} is present at {result}\")"
   ]
  },
  {
   "cell_type": "code",
   "execution_count": null,
   "id": "937752c1",
   "metadata": {},
   "outputs": [],
   "source": []
  }
 ],
 "metadata": {
  "kernelspec": {
   "display_name": "Python 3 (ipykernel)",
   "language": "python",
   "name": "python3"
  },
  "language_info": {
   "codemirror_mode": {
    "name": "ipython",
    "version": 3
   },
   "file_extension": ".py",
   "mimetype": "text/x-python",
   "name": "python",
   "nbconvert_exporter": "python",
   "pygments_lexer": "ipython3",
   "version": "3.9.13"
  }
 },
 "nbformat": 4,
 "nbformat_minor": 5
}

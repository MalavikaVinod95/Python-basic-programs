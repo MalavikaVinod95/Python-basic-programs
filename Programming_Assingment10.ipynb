{
 "cells": [
  {
   "cell_type": "markdown",
   "id": "df0ee13b",
   "metadata": {},
   "source": [
    "1.Write a Python program to find sum of elements in list?"
   ]
  },
  {
   "cell_type": "code",
   "execution_count": 12,
   "id": "d70f99cd",
   "metadata": {},
   "outputs": [],
   "source": [
    "def sum_val(value) :\n",
    "    sum=0\n",
    "    for i in value :\n",
    "        sum+=int(i)\n",
    "    return sum\n"
   ]
  },
  {
   "cell_type": "code",
   "execution_count": 11,
   "id": "7e8b3328",
   "metadata": {},
   "outputs": [
    {
     "data": {
      "text/plain": [
       "55"
      ]
     },
     "execution_count": 11,
     "metadata": {},
     "output_type": "execute_result"
    }
   ],
   "source": [
    "list_val([1,2,3,4,5,6,7,8,9,10])"
   ]
  },
  {
   "cell_type": "markdown",
   "id": "7f3f9f62",
   "metadata": {},
   "source": [
    "2.Write a Python program to  Multiply all numbers in the list?"
   ]
  },
  {
   "cell_type": "code",
   "execution_count": 13,
   "id": "80517f62",
   "metadata": {},
   "outputs": [],
   "source": [
    "def multi_val(val) :\n",
    "    multi = 1\n",
    "    for i in val :\n",
    "        multi*=i\n",
    "    return multi"
   ]
  },
  {
   "cell_type": "code",
   "execution_count": 14,
   "id": "824b96ff",
   "metadata": {},
   "outputs": [
    {
     "data": {
      "text/plain": [
       "202500"
      ]
     },
     "execution_count": 14,
     "metadata": {},
     "output_type": "execute_result"
    }
   ],
   "source": [
    "multi_val([10,45,6,75])"
   ]
  },
  {
   "cell_type": "markdown",
   "id": "a4d25cbe",
   "metadata": {},
   "source": [
    "3.Write a Python program to find smallest number in a list?"
   ]
  },
  {
   "cell_type": "code",
   "execution_count": 4,
   "id": "7d2efdbc",
   "metadata": {},
   "outputs": [],
   "source": [
    "def small_num(num) :\n",
    "    min = 0\n",
    "    min = num[1]\n",
    "    for i in num :\n",
    "        if i<min :\n",
    "            min = i\n",
    "    return min\n",
    "    \n",
    "    \n",
    "       "
   ]
  },
  {
   "cell_type": "code",
   "execution_count": 6,
   "id": "3e6c5085",
   "metadata": {},
   "outputs": [
    {
     "data": {
      "text/plain": [
       "34"
      ]
     },
     "execution_count": 6,
     "metadata": {},
     "output_type": "execute_result"
    }
   ],
   "source": [
    "small_num([100,34,57,65])"
   ]
  },
  {
   "cell_type": "markdown",
   "id": "1fdcaf5d",
   "metadata": {},
   "source": [
    "4.Write a Python program to find largest number in a list?"
   ]
  },
  {
   "cell_type": "code",
   "execution_count": 9,
   "id": "5ca8a995",
   "metadata": {},
   "outputs": [],
   "source": [
    "def large_num(nume) :\n",
    "    max = 0\n",
    "    max = nume[1]\n",
    "    for i in nume :\n",
    "        if i>max :\n",
    "            max = i \n",
    "    return max"
   ]
  },
  {
   "cell_type": "code",
   "execution_count": 11,
   "id": "da9fe209",
   "metadata": {},
   "outputs": [
    {
     "data": {
      "text/plain": [
       "124"
      ]
     },
     "execution_count": 11,
     "metadata": {},
     "output_type": "execute_result"
    }
   ],
   "source": [
    "large_num([100,34,57,65,124])"
   ]
  },
  {
   "cell_type": "markdown",
   "id": "85509f37",
   "metadata": {},
   "source": [
    "5.Write a Python program to find second largest number in a list?"
   ]
  },
  {
   "cell_type": "code",
   "execution_count": 1,
   "id": "5d89a274",
   "metadata": {},
   "outputs": [],
   "source": [
    "def second_large(item) :\n",
    "    item.sort()\n",
    "    sec_val = item[-2]\n",
    "    return sec_val        "
   ]
  },
  {
   "cell_type": "code",
   "execution_count": 2,
   "id": "5c2c6708",
   "metadata": {},
   "outputs": [
    {
     "data": {
      "text/plain": [
       "124"
      ]
     },
     "execution_count": 2,
     "metadata": {},
     "output_type": "execute_result"
    }
   ],
   "source": [
    "second_large([100,34,57,65,124,625])"
   ]
  },
  {
   "cell_type": "markdown",
   "id": "5f14f345",
   "metadata": {},
   "source": [
    "6.Write a Python program to find N largest elements from a list?"
   ]
  },
  {
   "cell_type": "code",
   "execution_count": 10,
   "id": "d7d90e62",
   "metadata": {},
   "outputs": [
    {
     "name": "stdout",
     "output_type": "stream",
     "text": [
      "Enter the length of the list:5\n",
      "33\n",
      "45\n",
      "67\n",
      "98\n",
      "105\n",
      "[33, 45, 67, 98, 105]\n",
      "Enter the number of largest elements required:3\n",
      "3 largest elements are: [67, 98, 105]\n"
     ]
    }
   ],
   "source": [
    "n_large = int(input(\"Enter the length of the list:\"))\n",
    "l = list()\n",
    "\n",
    "for i in range(n_large) :\n",
    "    l.append(int(input()))\n",
    "print(l)\n",
    "l.sort()\n",
    "a = int(input(\"Enter the number of largest elements required:\"))\n",
    "if a> n_large :\n",
    "    print(\"Out of Value!!!\")\n",
    "else :\n",
    "    print(f\"{a} largest elements are: {l[(n_large-a):]}\")\n"
   ]
  },
  {
   "cell_type": "markdown",
   "id": "43c276af",
   "metadata": {},
   "source": [
    "7.Write a Python program to print even numbers in a list?"
   ]
  },
  {
   "cell_type": "code",
   "execution_count": 6,
   "id": "0431bf8a",
   "metadata": {},
   "outputs": [],
   "source": [
    "def print_even(numb) : \n",
    "    y = list()\n",
    "    for i in numb :\n",
    "        if i%2 == 0 :\n",
    "            y.append(i)\n",
    "    return y\n"
   ]
  },
  {
   "cell_type": "code",
   "execution_count": 7,
   "id": "5141e65e",
   "metadata": {},
   "outputs": [
    {
     "data": {
      "text/plain": [
       "[100, 34, 124, 44]"
      ]
     },
     "execution_count": 7,
     "metadata": {},
     "output_type": "execute_result"
    }
   ],
   "source": [
    "print_even([100,34,57,65,124,55,44])"
   ]
  },
  {
   "cell_type": "markdown",
   "id": "cd9e4131",
   "metadata": {},
   "source": [
    "8.Write a Python program to print odd numbers in a List?"
   ]
  },
  {
   "cell_type": "code",
   "execution_count": 8,
   "id": "7bcce784",
   "metadata": {},
   "outputs": [],
   "source": [
    "def print_odd(num_val) :\n",
    "    z = list()\n",
    "    for i in num_val :\n",
    "        if not(i%2==0) :\n",
    "            z.append(i)\n",
    "    return z"
   ]
  },
  {
   "cell_type": "code",
   "execution_count": 9,
   "id": "823af88c",
   "metadata": {},
   "outputs": [
    {
     "data": {
      "text/plain": [
       "[57, 65, 55]"
      ]
     },
     "execution_count": 9,
     "metadata": {},
     "output_type": "execute_result"
    }
   ],
   "source": [
    "print_odd([100,34,57,65,124,55,44])"
   ]
  },
  {
   "cell_type": "markdown",
   "id": "9ab495df",
   "metadata": {},
   "source": [
    "9.Write a Python program to Remove empty List from List?"
   ]
  },
  {
   "cell_type": "code",
   "execution_count": 3,
   "id": "f3251b7f",
   "metadata": {},
   "outputs": [],
   "source": [
    "def remove_empty(empty_val) :\n",
    "    new_val = list()\n",
    "    for i in empty_val :\n",
    "        if i != [] :\n",
    "            new_val.append(i)\n",
    "    return new_val"
   ]
  },
  {
   "cell_type": "code",
   "execution_count": 4,
   "id": "52a6ba62",
   "metadata": {},
   "outputs": [
    {
     "data": {
      "text/plain": [
       "[1, 2, 45, 83, 28]"
      ]
     },
     "execution_count": 4,
     "metadata": {},
     "output_type": "execute_result"
    }
   ],
   "source": [
    "remove_empty([1,2,[],45,83,[],28])"
   ]
  },
  {
   "cell_type": "markdown",
   "id": "0e6cb02c",
   "metadata": {},
   "source": [
    "10.Write a Python program to Cloning or Copying a list?"
   ]
  },
  {
   "cell_type": "code",
   "execution_count": 6,
   "id": "22daa99b",
   "metadata": {},
   "outputs": [],
   "source": [
    "def clone_list(clone_val) :\n",
    "    new_val = list()\n",
    "    new_val = clone_val.copy()\n",
    "    return new_val"
   ]
  },
  {
   "cell_type": "code",
   "execution_count": 7,
   "id": "df1f79d7",
   "metadata": {},
   "outputs": [
    {
     "data": {
      "text/plain": [
       "[22, -19, 80, 45, 81]"
      ]
     },
     "execution_count": 7,
     "metadata": {},
     "output_type": "execute_result"
    }
   ],
   "source": [
    "clone_list([22,-19,80,45,81])"
   ]
  },
  {
   "cell_type": "markdown",
   "id": "b8fa6557",
   "metadata": {},
   "source": [
    "11.Write a Python program to Count occurrences of an element in a list?"
   ]
  },
  {
   "cell_type": "code",
   "execution_count": 17,
   "id": "0fe17538",
   "metadata": {},
   "outputs": [
    {
     "name": "stdout",
     "output_type": "stream",
     "text": [
      "Enter the range of values:10\n",
      "1\n",
      "2\n",
      "3\n",
      "2\n",
      "5\n",
      "2\n",
      "6\n",
      "7\n",
      "2\n",
      "8\n",
      "[1, 2, 3, 2, 5, 2, 6, 7, 2, 8]\n",
      "Which value to find:2\n",
      "2 is occuring 4 times\n"
     ]
    }
   ],
   "source": [
    "count_val = int(input(\"Enter the range of values:\"))\n",
    "l = list()\n",
    "\n",
    "count = 0\n",
    "for i in range(count_val) :\n",
    "    l.append(int(input()))\n",
    "print(l)\n",
    "find_occur = int(input(\"Which value to find:\"))\n",
    "for i in l :\n",
    "      if find_occur == i :\n",
    "            count+=1\n",
    "print(f\"{find_occur} is occuring {count} times\")\n",
    "    \n",
    "        "
   ]
  },
  {
   "cell_type": "code",
   "execution_count": null,
   "id": "de72466c",
   "metadata": {},
   "outputs": [],
   "source": []
  }
 ],
 "metadata": {
  "kernelspec": {
   "display_name": "Python 3 (ipykernel)",
   "language": "python",
   "name": "python3"
  },
  "language_info": {
   "codemirror_mode": {
    "name": "ipython",
    "version": 3
   },
   "file_extension": ".py",
   "mimetype": "text/x-python",
   "name": "python",
   "nbconvert_exporter": "python",
   "pygments_lexer": "ipython3",
   "version": "3.9.13"
  }
 },
 "nbformat": 4,
 "nbformat_minor": 5
}

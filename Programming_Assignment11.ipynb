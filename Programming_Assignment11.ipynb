{
 "cells": [
  {
   "cell_type": "markdown",
   "id": "dfe34090",
   "metadata": {},
   "source": [
    "1.Write a Python program to find words which are greater than given length k?"
   ]
  },
  {
   "cell_type": "code",
   "execution_count": 8,
   "id": "62c3c9bf",
   "metadata": {},
   "outputs": [
    {
     "name": "stdout",
     "output_type": "stream",
     "text": [
      "Enter the value: This is for testing purpose\n",
      "Enter the length k: 3\n",
      "This testing purpose "
     ]
    }
   ],
   "source": [
    "val = input(\"Enter the value: \")\n",
    "new_val=val.split()\n",
    "k = int(input(\"Enter the length k: \"))\n",
    "for i in new_val:\n",
    "    if len(i)>k :\n",
    "        print(i, end=\" \")\n",
    "    "
   ]
  },
  {
   "cell_type": "markdown",
   "id": "c79c9818",
   "metadata": {},
   "source": [
    "2.Write a Python program for removing i-th character from a string?"
   ]
  },
  {
   "cell_type": "code",
   "execution_count": 15,
   "id": "2d3655d7",
   "metadata": {},
   "outputs": [
    {
     "name": "stdout",
     "output_type": "stream",
     "text": [
      "Enter the value: Malavika\n",
      "Enter the index to be removed: 2\n",
      "['M', 'a', 'a', 'v', 'i', 'k', 'a']\n"
     ]
    }
   ],
   "source": [
    "ith_char = input(\"Enter the value: \")\n",
    "lis = list()\n",
    "for i in ith_char:\n",
    "    lis.append(i)\n",
    "remove_val = int(input(\"Enter the index to be removed: \"))\n",
    "lis.pop(remove_val)\n",
    "print(lis)"
   ]
  },
  {
   "cell_type": "markdown",
   "id": "0bfa8142",
   "metadata": {},
   "source": [
    "3.Write a Python program to split and join a string?"
   ]
  },
  {
   "cell_type": "code",
   "execution_count": 17,
   "id": "e771d5ef",
   "metadata": {},
   "outputs": [
    {
     "name": "stdout",
     "output_type": "stream",
     "text": [
      "Enter the value: This is to join the value\n",
      "Splitted value:  ['This', 'is', 'to', 'join', 'the', 'value']\n",
      "Joined value:  This-is-to-join-the-value\n"
     ]
    }
   ],
   "source": [
    "string_val = input(\"Enter the value: \")\n",
    "new_val = string_val.split()\n",
    "print(\"Splitted value: \",new_val)\n",
    "joined_val = \"-\".join(new_val)\n",
    "print(\"Joined value: \",joined_val)"
   ]
  },
  {
   "cell_type": "markdown",
   "id": "b19b3732",
   "metadata": {},
   "source": [
    "4.Write a Python to check if a given string is binary string or not?"
   ]
  },
  {
   "cell_type": "code",
   "execution_count": 24,
   "id": "a9b45b84",
   "metadata": {},
   "outputs": [
    {
     "name": "stdout",
     "output_type": "stream",
     "text": [
      "Enter the value: 1010100200111\n",
      "String is not binary\n"
     ]
    }
   ],
   "source": [
    "check_val = set(input(\"Enter the value: \"))\n",
    "binary={0,1}\n",
    "if check_val==binary or check_val=={'0'} or check_val=={'1'} :\n",
    "    print(\"String is binary\")\n",
    "else :\n",
    "    print(\"String is not binary\")"
   ]
  },
  {
   "cell_type": "markdown",
   "id": "6f476074",
   "metadata": {},
   "source": [
    "5.Write a Python program to find uncommon words from two Strings?"
   ]
  },
  {
   "cell_type": "code",
   "execution_count": 41,
   "id": "b18ece46",
   "metadata": {},
   "outputs": [
    {
     "name": "stdout",
     "output_type": "stream",
     "text": [
      "Enter the first string: Hello all welcome to python programming\n",
      "Enter the second string: welcome to programming all\n",
      "['Hello', 'python']\n"
     ]
    }
   ],
   "source": [
    "string_1 = input(\"Enter the first string: \")\n",
    "valu1=string_1.split()\n",
    "string_2 = input(\"Enter the second string: \")\n",
    "valu2=string_2.split()\n",
    "l=list()\n",
    "for i in valu1:\n",
    "    if i not in valu2:\n",
    "        l.append(i)\n",
    "for j in valu2:\n",
    "    if j not in valu1:\n",
    "        l.append(j)\n",
    "print(l)\n",
    "    \n",
    "\n"
   ]
  },
  {
   "cell_type": "markdown",
   "id": "caa5ff38",
   "metadata": {},
   "source": [
    "6.Write a Python to find all duplicate characters in string?"
   ]
  },
  {
   "cell_type": "code",
   "execution_count": 50,
   "id": "fabfa5bc",
   "metadata": {},
   "outputs": [
    {
     "name": "stdout",
     "output_type": "stream",
     "text": [
      "Enter the string: Malavika Vinod\n",
      "Duplicate values are: {'v', 'i', 'a'}\n"
     ]
    }
   ],
   "source": [
    "str_1 = input(\"Enter the string: \")\n",
    "cmp_value = str_1.lower()\n",
    "dupe=[]\n",
    "for i in cmp_value :\n",
    "    if cmp_value.count(i)>1 :\n",
    "        dupe.append(i)\n",
    "print(\"Duplicate values are:\",set(dupe))"
   ]
  },
  {
   "cell_type": "markdown",
   "id": "b3bac5ea",
   "metadata": {},
   "source": [
    "7.Write a Python Program to check if a string contains any special character?"
   ]
  },
  {
   "cell_type": "code",
   "execution_count": 57,
   "id": "f54536f2",
   "metadata": {},
   "outputs": [
    {
     "name": "stdout",
     "output_type": "stream",
     "text": [
      "Enter the string: #I'mcoding@freetime.\n",
      "#'@."
     ]
    }
   ],
   "source": [
    "employee ={}\n",
    "for i in range(5):\n",
    "    name= input(\"Enter the name: \")\n",
    "    age = input(\"Enter the age: \")\n",
    "    \n",
    "for i in new_value :\n",
    "    if not i.isalnum() :\n",
    "        print(i, end=\"\")"
   ]
  },
  {
   "cell_type": "code",
   "execution_count": null,
   "id": "4d7d4a69",
   "metadata": {},
   "outputs": [],
   "source": []
  }
 ],
 "metadata": {
  "kernelspec": {
   "display_name": "Python 3 (ipykernel)",
   "language": "python",
   "name": "python3"
  },
  "language_info": {
   "codemirror_mode": {
    "name": "ipython",
    "version": 3
   },
   "file_extension": ".py",
   "mimetype": "text/x-python",
   "name": "python",
   "nbconvert_exporter": "python",
   "pygments_lexer": "ipython3",
   "version": "3.9.13"
  }
 },
 "nbformat": 4,
 "nbformat_minor": 5
}

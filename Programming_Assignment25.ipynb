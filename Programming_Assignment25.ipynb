{
 "cells": [
  {
   "cell_type": "markdown",
   "id": "51c73da6",
   "metadata": {},
   "source": [
    "Question1\n",
    "Create a function that takes three integer arguments (a, b, c) and returns the amount of integers which are of equal value.\n",
    "Examples\n",
    "equal(3, 4, 3) ➞ 2\n",
    "\n",
    "equal(1, 1, 1) ➞ 3\n",
    "\n",
    "equal(3, 4, 1) ➞ 0 \n",
    "Notes\n",
    "Your function must return 0, 2 or 3.\n"
   ]
  },
  {
   "cell_type": "code",
   "execution_count": 7,
   "id": "e9115a7c",
   "metadata": {},
   "outputs": [],
   "source": [
    "def equal(a,b,c):\n",
    "    if a==b and a==c:\n",
    "        return 3\n",
    "    elif a==b or a==c:\n",
    "        return 2\n",
    "    else:\n",
    "        return 0"
   ]
  },
  {
   "cell_type": "code",
   "execution_count": 8,
   "id": "f35ddd47",
   "metadata": {},
   "outputs": [
    {
     "data": {
      "text/plain": [
       "2"
      ]
     },
     "execution_count": 8,
     "metadata": {},
     "output_type": "execute_result"
    }
   ],
   "source": [
    "equal(3, 4, 3)"
   ]
  },
  {
   "cell_type": "code",
   "execution_count": 9,
   "id": "d44069e5",
   "metadata": {},
   "outputs": [
    {
     "data": {
      "text/plain": [
       "3"
      ]
     },
     "execution_count": 9,
     "metadata": {},
     "output_type": "execute_result"
    }
   ],
   "source": [
    "equal(1, 1, 1)"
   ]
  },
  {
   "cell_type": "code",
   "execution_count": 10,
   "id": "5ddc8bc1",
   "metadata": {},
   "outputs": [
    {
     "data": {
      "text/plain": [
       "0"
      ]
     },
     "execution_count": 10,
     "metadata": {},
     "output_type": "execute_result"
    }
   ],
   "source": [
    "equal(3, 4, 1)"
   ]
  },
  {
   "cell_type": "markdown",
   "id": "6d80d08f",
   "metadata": {},
   "source": [
    "Question2\n",
    "Write a function that converts a dictionary into a list of keys-values tuples.\n",
    "Examples\n",
    "dict_to_list({\n",
    "  \"D\": 1,\n",
    "  \"B\": 2,\n",
    "  \"C\": 3\n",
    "}) ➞ [(\"B\", 2), (\"C\", 3), (\"D\", 1)]\n",
    "\n",
    "dict_to_list({\n",
    "  \"likes\": 2,\n",
    "  \"dislikes\": 3,\n",
    "  \"followers\": 10\n",
    "}) ➞ [(\"dislikes\", 3), (\"followers\", 10), (\"likes\", 2)]\n",
    "Notes\n",
    "Return the elements in the list in alphabetical order.\n"
   ]
  },
  {
   "cell_type": "code",
   "execution_count": 15,
   "id": "7af3abed",
   "metadata": {},
   "outputs": [],
   "source": [
    "def dict_to_list(dlist):\n",
    "    d=sorted(dlist.items())\n",
    "    return d"
   ]
  },
  {
   "cell_type": "code",
   "execution_count": 16,
   "id": "9a7cf5fa",
   "metadata": {},
   "outputs": [
    {
     "data": {
      "text/plain": [
       "[('B', 2), ('C', 3), ('D', 1)]"
      ]
     },
     "execution_count": 16,
     "metadata": {},
     "output_type": "execute_result"
    }
   ],
   "source": [
    "dict_to_list({\n",
    "  \"D\": 1,\n",
    "  \"B\": 2,\n",
    "  \"C\": 3\n",
    "})"
   ]
  },
  {
   "cell_type": "code",
   "execution_count": 17,
   "id": "13213ec4",
   "metadata": {},
   "outputs": [
    {
     "data": {
      "text/plain": [
       "[('dislikes', 3), ('followers', 10), ('likes', 2)]"
      ]
     },
     "execution_count": 17,
     "metadata": {},
     "output_type": "execute_result"
    }
   ],
   "source": [
    "dict_to_list({\n",
    "  \"likes\": 2,\n",
    "  \"dislikes\": 3,\n",
    "  \"followers\": 10\n",
    "})"
   ]
  },
  {
   "cell_type": "markdown",
   "id": "c8661928",
   "metadata": {},
   "source": [
    "Question3\n",
    "Write a function that creates a dictionary with each (key, value) pair being the (lower case, upper case) versions of a letter, respectively.\n",
    "Examples\n",
    "mapping([\"p\", \"s\"]) ➞ { \"p\": \"P\", \"s\": \"S\" }\n",
    "\n",
    "mapping([\"a\", \"b\", \"c\"]) ➞ { \"a\": \"A\", \"b\": \"B\", \"c\": \"C\" }\n",
    "\n",
    "mapping([\"a\", \"v\", \"y\", \"z\"]) ➞ { \"a\": \"A\", \"v\": \"V\", \"y\": \"Y\", \"z\": \"Z\" }\n",
    "Notes\n",
    "All of the letters in the input list will always be lowercase.\n"
   ]
  },
  {
   "cell_type": "code",
   "execution_count": 16,
   "id": "ae8cfafe",
   "metadata": {},
   "outputs": [],
   "source": [
    "def mapping(m):\n",
    "    d={}\n",
    "    for i in m:\n",
    "        d[i] = i.upper()\n",
    "    return d"
   ]
  },
  {
   "cell_type": "code",
   "execution_count": 17,
   "id": "269c112b",
   "metadata": {},
   "outputs": [
    {
     "data": {
      "text/plain": [
       "{'p': 'P', 's': 'S'}"
      ]
     },
     "execution_count": 17,
     "metadata": {},
     "output_type": "execute_result"
    }
   ],
   "source": [
    "mapping([\"p\", \"s\"])"
   ]
  },
  {
   "cell_type": "code",
   "execution_count": 12,
   "id": "ebe1d5e7",
   "metadata": {},
   "outputs": [
    {
     "data": {
      "text/plain": [
       "{'a': 'A', 'b': 'B', 'c': 'C'}"
      ]
     },
     "execution_count": 12,
     "metadata": {},
     "output_type": "execute_result"
    }
   ],
   "source": [
    "mapping([\"a\", \"b\", \"c\"])"
   ]
  },
  {
   "cell_type": "code",
   "execution_count": 13,
   "id": "2332148b",
   "metadata": {},
   "outputs": [
    {
     "data": {
      "text/plain": [
       "{'a': 'A', 'v': 'V', 'y': 'Y', 'z': 'Z'}"
      ]
     },
     "execution_count": 13,
     "metadata": {},
     "output_type": "execute_result"
    }
   ],
   "source": [
    "mapping([\"a\", \"v\", \"y\", \"z\"])"
   ]
  },
  {
   "cell_type": "markdown",
   "id": "300d4e50",
   "metadata": {},
   "source": [
    "Question4\n",
    "Write a function, that replaces all vowels in a string with a specified vowel.\n",
    "Examples\n",
    "vow_replace(\"apples and bananas\", \"u\") ➞ \"upplus und bununus\"\n",
    "\n",
    "vow_replace(\"cheese casserole\", \"o\") ➞ \"chooso cossorolo\"\n",
    "\n",
    "vow_replace(\"stuffed jalapeno poppers\", \"e\") ➞ \"steffed jelepene peppers\"\n",
    "Notes\n",
    "All words will be lowercase. Y is not considered a vowel.\n"
   ]
  },
  {
   "cell_type": "code",
   "execution_count": 2,
   "id": "7f697042",
   "metadata": {},
   "outputs": [],
   "source": [
    "def vow_replace(str_val,rep):\n",
    "    lis=[]\n",
    "    for i in range(len(str_val)):\n",
    "        if str_val[i] in \"aeiouAEIOU\":\n",
    "            lis.append(rep)\n",
    "        else:\n",
    "            lis.append(str_val[i])\n",
    "    return ''.join((lis))       \n",
    " "
   ]
  },
  {
   "cell_type": "code",
   "execution_count": 3,
   "id": "3d2e1b07",
   "metadata": {},
   "outputs": [
    {
     "data": {
      "text/plain": [
       "'upplus und bununus'"
      ]
     },
     "execution_count": 3,
     "metadata": {},
     "output_type": "execute_result"
    }
   ],
   "source": [
    "vow_replace(\"apples and bananas\", \"u\")"
   ]
  },
  {
   "cell_type": "code",
   "execution_count": 4,
   "id": "f89873d4",
   "metadata": {},
   "outputs": [
    {
     "data": {
      "text/plain": [
       "'chooso cossorolo'"
      ]
     },
     "execution_count": 4,
     "metadata": {},
     "output_type": "execute_result"
    }
   ],
   "source": [
    "vow_replace(\"cheese casserole\", \"o\")"
   ]
  },
  {
   "cell_type": "code",
   "execution_count": 5,
   "id": "160aaf20",
   "metadata": {},
   "outputs": [
    {
     "data": {
      "text/plain": [
       "'steffed jelepene peppers'"
      ]
     },
     "execution_count": 5,
     "metadata": {},
     "output_type": "execute_result"
    }
   ],
   "source": [
    "vow_replace(\"stuffed jalapeno poppers\", \"e\")"
   ]
  },
  {
   "cell_type": "markdown",
   "id": "0e15568d",
   "metadata": {},
   "source": [
    "Question5\n",
    "Create a function that takes a string as input and capitalizes a letter if its ASCII code is even and returns its lower case version if its ASCII code is odd.\n",
    "Examples\n",
    "ascii_capitalize(\"to be or not to be!\") ➞ \"To Be oR NoT To Be!\"\n",
    "\n",
    "ascii_capitalize(\"THE LITTLE MERMAID\") ➞ \"THe LiTTLe meRmaiD\"\n",
    "\n",
    "ascii_capitalize(\"Oh what a beautiful morning.\") ➞ \"oH wHaT a BeauTiFuL moRNiNg.\"\n",
    "\n"
   ]
  },
  {
   "cell_type": "code",
   "execution_count": 20,
   "id": "636f747e",
   "metadata": {},
   "outputs": [],
   "source": [
    "def ascii_capitalize(asc_val):\n",
    "    li=[]\n",
    "    for i in asc_val:\n",
    "        if ord(i)%2==0:\n",
    "            li.append(i.upper())\n",
    "        else:\n",
    "            li.append(i.lower())\n",
    "    return ''.join((li))  "
   ]
  },
  {
   "cell_type": "code",
   "execution_count": 21,
   "id": "7cf28603",
   "metadata": {},
   "outputs": [
    {
     "data": {
      "text/plain": [
       "'To Be oR NoT To Be!'"
      ]
     },
     "execution_count": 21,
     "metadata": {},
     "output_type": "execute_result"
    }
   ],
   "source": [
    "ascii_capitalize(\"to be or not to be!\")"
   ]
  },
  {
   "cell_type": "code",
   "execution_count": 22,
   "id": "a6549a1e",
   "metadata": {},
   "outputs": [
    {
     "data": {
      "text/plain": [
       "'THe LiTTLe meRmaiD'"
      ]
     },
     "execution_count": 22,
     "metadata": {},
     "output_type": "execute_result"
    }
   ],
   "source": [
    "ascii_capitalize(\"THE LITTLE MERMAID\")"
   ]
  },
  {
   "cell_type": "code",
   "execution_count": 23,
   "id": "39046f52",
   "metadata": {},
   "outputs": [
    {
     "data": {
      "text/plain": [
       "'oH wHaT a BeauTiFuL moRNiNg.'"
      ]
     },
     "execution_count": 23,
     "metadata": {},
     "output_type": "execute_result"
    }
   ],
   "source": [
    "ascii_capitalize(\"Oh what a beautiful morning.\")"
   ]
  },
  {
   "cell_type": "code",
   "execution_count": null,
   "id": "7b93334a",
   "metadata": {},
   "outputs": [],
   "source": []
  }
 ],
 "metadata": {
  "kernelspec": {
   "display_name": "Python 3 (ipykernel)",
   "language": "python",
   "name": "python3"
  },
  "language_info": {
   "codemirror_mode": {
    "name": "ipython",
    "version": 3
   },
   "file_extension": ".py",
   "mimetype": "text/x-python",
   "name": "python",
   "nbconvert_exporter": "python",
   "pygments_lexer": "ipython3",
   "version": "3.9.13"
  }
 },
 "nbformat": 4,
 "nbformat_minor": 5
}

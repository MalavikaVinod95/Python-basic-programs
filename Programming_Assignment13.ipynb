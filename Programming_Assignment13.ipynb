{
 "cells": [
  {
   "cell_type": "markdown",
   "id": "a084f11e",
   "metadata": {},
   "source": [
    "Question 1:\n",
    "\n",
    "\n",
    "\n",
    "\n",
    "Write a program that calculates and prints the value according to the given formula:\n",
    "\n",
    "\n",
    "\n",
    "\n",
    "Q = Square root of [(2 * C * D)/H]\n",
    "\n",
    "\n",
    "\n",
    "\n",
    "Following are the fixed values of C and H:\n",
    "\n",
    "\n",
    "\n",
    "\n",
    "C is 50. H is 30.\n",
    "\n",
    "\n",
    "\n",
    "\n",
    "D is the variable whose values should be input to your program in a comma-separated sequence.\n",
    "\n",
    "\n",
    "\n",
    "\n",
    "Example\n",
    "\n",
    "\n",
    "\n",
    "\n",
    "Let us assume the following comma separated input sequence is given to the program:\n",
    "\n",
    "\n",
    "\n",
    "\n",
    "100,150,180\n",
    "\n",
    "\n",
    "\n",
    "\n",
    "The output of the program should be:\n",
    "\n",
    "\n",
    "\n",
    "18,22,24\n"
   ]
  },
  {
   "cell_type": "code",
   "execution_count": 36,
   "id": "8ae9e9d3",
   "metadata": {},
   "outputs": [],
   "source": [
    "import math\n",
    "def print_value(val):\n",
    "    l=[]\n",
    "    d=1\n",
    "    for d in val:\n",
    "        num=(2*50*d)/30\n",
    "        q=math.sqrt(num)\n",
    "        l.append(round(q))\n",
    "    return l"
   ]
  },
  {
   "cell_type": "code",
   "execution_count": 37,
   "id": "90230876",
   "metadata": {},
   "outputs": [
    {
     "data": {
      "text/plain": [
       "[18, 22, 24]"
      ]
     },
     "execution_count": 37,
     "metadata": {},
     "output_type": "execute_result"
    }
   ],
   "source": [
    "print_value([100,150,180])"
   ]
  },
  {
   "cell_type": "markdown",
   "id": "adcc9ed7",
   "metadata": {},
   "source": [
    "Question 2:\n",
    "Write a program which takes 2 digits, X,Y as input and generates a 2-dimensional array. The element value in the i-th row and j-th column of the array should be i*j.\n",
    "\n",
    "\n",
    "\n",
    "\n",
    "Note: i=0,1.., X-1; j=0,1,¡Y-1.\n",
    "\n",
    "\n",
    "\n",
    "\n",
    "Example\n",
    "\n",
    "\n",
    "\n",
    "\n",
    "Suppose the following inputs are given to the program:\n",
    "\n",
    "\n",
    "\n",
    "\n",
    "3,5\n",
    "\n",
    "\n",
    "\n",
    "\n",
    "Then, the output of the program should be:\n",
    "\n",
    "\n",
    "\n",
    "\n",
    "[[0, 0, 0, 0, 0], [0, 1, 2, 3, 4], [0, 2, 4, 6, 8]] \n",
    "\n",
    "\n",
    "\n"
   ]
  },
  {
   "cell_type": "code",
   "execution_count": 80,
   "id": "ff662ad8",
   "metadata": {},
   "outputs": [],
   "source": [
    "def take_digit(x,y):\n",
    "    \n",
    "    arr=[]\n",
    "    for i in range(x):\n",
    "        row=[]\n",
    "        for j in range(y):\n",
    "            row.append(i*j)\n",
    "        arr.append(row)\n",
    "    print(arr)"
   ]
  },
  {
   "cell_type": "code",
   "execution_count": 81,
   "id": "0e1bc3ad",
   "metadata": {},
   "outputs": [
    {
     "name": "stdout",
     "output_type": "stream",
     "text": [
      "[[0, 0, 0, 0, 0], [0, 1, 2, 3, 4], [0, 2, 4, 6, 8]]\n"
     ]
    }
   ],
   "source": [
    "take_digit(3,5)"
   ]
  },
  {
   "cell_type": "markdown",
   "id": "2b829589",
   "metadata": {},
   "source": [
    "Question 3:\n",
    "Write a program that accepts a comma separated sequence of words as input and prints the words in a comma-separated sequence after sorting them alphabetically.\n",
    "\n",
    "\n",
    "\n",
    "\n",
    "Suppose the following input is supplied to the program:\n",
    "\n",
    "\n",
    "\n",
    "\n",
    "without,hello,bag,world\n",
    "\n",
    "\n",
    "\n",
    "\n",
    "Then, the output should be:\n",
    "\n",
    "\n",
    "\n",
    "bag,hello,without,world\n"
   ]
  },
  {
   "cell_type": "code",
   "execution_count": 44,
   "id": "a8aa6abe",
   "metadata": {},
   "outputs": [],
   "source": [
    "def sort_string(s):\n",
    "    str_s=','.join(sorted(s))\n",
    "    return str_s"
   ]
  },
  {
   "cell_type": "code",
   "execution_count": 45,
   "id": "8724f22b",
   "metadata": {},
   "outputs": [
    {
     "data": {
      "text/plain": [
       "'bag,hello,without,world'"
      ]
     },
     "execution_count": 45,
     "metadata": {},
     "output_type": "execute_result"
    }
   ],
   "source": [
    "sort_string([\"without\",\"hello\",\"bag\",\"world\"])"
   ]
  },
  {
   "cell_type": "markdown",
   "id": "c011a4b3",
   "metadata": {},
   "source": [
    "Question 4:\n",
    "Write a program that accepts a sequence of whitespace separated words as input and prints the words after removing all duplicate words and sorting them alphanumerically.\n",
    "\n",
    "\n",
    "\n",
    "\n",
    "Suppose the following input is supplied to the program:\n",
    "\n",
    "\n",
    "\n",
    "\n",
    "hello world and practice makes perfect and hello world again\n",
    "\n",
    "\n",
    "\n",
    "\n",
    "Then, the output should be:\n",
    "\n",
    "\n",
    "\n",
    "again and hello makes perfect practice world\n"
   ]
  },
  {
   "cell_type": "code",
   "execution_count": 82,
   "id": "d4f2145d",
   "metadata": {},
   "outputs": [],
   "source": [
    "from collections import Counter\n",
    "def string_sort(stri):\n",
    "    stri=stri.split(\" \")\n",
    "    counted=Counter(stri)\n",
    "    sorted_val=' '.join(sorted(counted.keys()))\n",
    "    return sorted_val"
   ]
  },
  {
   "cell_type": "code",
   "execution_count": 83,
   "id": "fe55a801",
   "metadata": {},
   "outputs": [
    {
     "data": {
      "text/plain": [
       "'again and hello makes perfect practice world'"
      ]
     },
     "execution_count": 83,
     "metadata": {},
     "output_type": "execute_result"
    }
   ],
   "source": [
    "string_sort(\"hello world and practice makes perfect and hello world again\")"
   ]
  },
  {
   "cell_type": "markdown",
   "id": "1126b8db",
   "metadata": {},
   "source": [
    "Question 5:\n",
    "Write a program that accepts a sentence and calculate the number of letters and digits.\n",
    "\n",
    "\n",
    "\n",
    "\n",
    "Suppose the following input is supplied to the program:\n",
    "\n",
    "\n",
    "\n",
    "\n",
    "hello world! 123\n",
    "\n",
    "\n",
    "\n",
    "\n",
    "Then, the output should be:\n",
    "\n",
    "\n",
    "\n",
    "\n",
    "LETTERS 10\n",
    "\n",
    "\n",
    "\n",
    "DIGITS 3\n"
   ]
  },
  {
   "cell_type": "code",
   "execution_count": 7,
   "id": "af3c40b8",
   "metadata": {},
   "outputs": [],
   "source": [
    "def letter_digit(alphnum):\n",
    "    num=0\n",
    "    let=0\n",
    "    for i in alphnum:\n",
    "        if i.isdigit():\n",
    "            num+=1\n",
    "        elif i.isalpha():\n",
    "            let+=1\n",
    "    print(f\"LETTERS {let} \\n DIGITS {num}\")\n",
    "            "
   ]
  },
  {
   "cell_type": "code",
   "execution_count": 8,
   "id": "0e3793bb",
   "metadata": {},
   "outputs": [
    {
     "name": "stdout",
     "output_type": "stream",
     "text": [
      "LETTERS 10 \n",
      " DIGITS 3\n"
     ]
    }
   ],
   "source": [
    "letter_digit(\"hello world! 123\")"
   ]
  },
  {
   "cell_type": "markdown",
   "id": "cc518b34",
   "metadata": {},
   "source": [
    "Question 6:\n",
    "A website requires the users to input username and password to register. Write a program to check the validity of password input by users.\n",
    "\n",
    "\n",
    "\n",
    "\n",
    "Following are the criteria for checking the password:\n",
    "\n",
    "\n",
    "\n",
    "\n",
    "1. At least 1 letter between [a-z]\n",
    "\n",
    "\n",
    "\n",
    "\n",
    "2. At least 1 number between [0-9]\n",
    "\n",
    "\n",
    "\n",
    "\n",
    "1. At least 1 letter between [A-Z]\n",
    "\n",
    "\n",
    "\n",
    "\n",
    "3. At least 1 character from [$#@]\n",
    "\n",
    "\n",
    "\n",
    "\n",
    "4. Minimum length of transaction password: 6\n",
    "\n",
    "\n",
    "\n",
    "\n",
    "5. Maximum length of transaction password: 12\n",
    "\n",
    "\n",
    "\n",
    "\n",
    "Your program should accept a sequence of comma separated passwords and will check them according to the above criteria. Passwords that match the criteria are to be printed, each separated by a comma.\n",
    "\n",
    "\n",
    "\n",
    "\n",
    "Example\n",
    "\n",
    "\n",
    "\n",
    "\n",
    "If the following passwords are given as input to the program:\n",
    "\n",
    "\n",
    "\n",
    "\n",
    "ABd1234@1,a F1#,2w3E*,2We3345\n",
    "\n",
    "\n",
    "\n",
    "\n",
    "Then, the output of the program should be:\n",
    "\n",
    "\n",
    "\n",
    "ABd1234@1\n"
   ]
  },
  {
   "cell_type": "code",
   "execution_count": 34,
   "id": "0965675d",
   "metadata": {},
   "outputs": [],
   "source": [
    "def password(pswd):\n",
    "    dig,low,up,sp=0,0,0,0\n",
    "    for i in pswd:\n",
    "        if (len(i)>6 and len(i)<12):\n",
    "            for j in i:\n",
    "                if j.isdigit():\n",
    "                    dig+=1\n",
    "                if j.islower():\n",
    "                    low+=1\n",
    "                if j.isupper():\n",
    "                    up+=1\n",
    "                if(j=='@'or j=='#' or j=='*'):\n",
    "                    sp+=1\n",
    "        if (dig>=1 and low>=1 and up>=1 and sp>=1 and dig+low+up+sp==len(i)):\n",
    "            print(i)\n",
    "        "
   ]
  },
  {
   "cell_type": "code",
   "execution_count": 35,
   "id": "02173910",
   "metadata": {},
   "outputs": [
    {
     "name": "stdout",
     "output_type": "stream",
     "text": [
      "ABd1234@1\n"
     ]
    }
   ],
   "source": [
    "password([\"ABd1234@1\",\"a F1#\",\"2w3E*\",\"2We3345\"])"
   ]
  },
  {
   "cell_type": "code",
   "execution_count": null,
   "id": "7beba4bf",
   "metadata": {},
   "outputs": [],
   "source": []
  }
 ],
 "metadata": {
  "kernelspec": {
   "display_name": "Python 3 (ipykernel)",
   "language": "python",
   "name": "python3"
  },
  "language_info": {
   "codemirror_mode": {
    "name": "ipython",
    "version": 3
   },
   "file_extension": ".py",
   "mimetype": "text/x-python",
   "name": "python",
   "nbconvert_exporter": "python",
   "pygments_lexer": "ipython3",
   "version": "3.9.13"
  }
 },
 "nbformat": 4,
 "nbformat_minor": 5
}

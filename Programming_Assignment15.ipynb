{
 "cells": [
  {
   "cell_type": "markdown",
   "id": "2a763517",
   "metadata": {},
   "source": [
    "Question 1:\n",
    "Please write a program using generator to print the numbers which can be divisible by 5 and 7 between 0 and n in comma separated form while n is input by console.\n",
    "Example:\n",
    "If the following n is given as input to the program:\n",
    "100\n",
    "Then, the output of the program should be:\n",
    "0,35,70\n"
   ]
  },
  {
   "cell_type": "code",
   "execution_count": 13,
   "id": "abf2cbe6",
   "metadata": {},
   "outputs": [],
   "source": [
    "def generator() :\n",
    "    n = int(input(\"Enter the range:\"))\n",
    "    l=list()\n",
    "    for i in range(0,n):\n",
    "        if i%5==0 and i%7==0:\n",
    "            l.append(str(i))\n",
    "    return ','.join(l)"
   ]
  },
  {
   "cell_type": "code",
   "execution_count": 14,
   "id": "e43ea40f",
   "metadata": {},
   "outputs": [
    {
     "name": "stdout",
     "output_type": "stream",
     "text": [
      "Enter the range:100\n"
     ]
    },
    {
     "data": {
      "text/plain": [
       "'0,35,70'"
      ]
     },
     "execution_count": 14,
     "metadata": {},
     "output_type": "execute_result"
    }
   ],
   "source": [
    "generator()"
   ]
  },
  {
   "cell_type": "markdown",
   "id": "78904966",
   "metadata": {},
   "source": [
    "Question 2:\n",
    "Please write a program using generator to print the even numbers between 0 and n in comma separated form while n is input by console.\n",
    "Example:\n",
    "If the following n is given as input to the program:\n",
    "10\n",
    "Then, the output of the program should be:\n",
    "0,2,4,6,8,10\n"
   ]
  },
  {
   "cell_type": "code",
   "execution_count": 20,
   "id": "9f463e2b",
   "metadata": {},
   "outputs": [],
   "source": [
    "def generato_even() :\n",
    "    n = int(input(\"Enter the range:\"))\n",
    "    l1 = list()\n",
    "    for i in range(0,n+1):\n",
    "        if i%2==0 :\n",
    "            l1.append(str(i))\n",
    "    return ','.join(l1)\n",
    "        "
   ]
  },
  {
   "cell_type": "code",
   "execution_count": 21,
   "id": "2b495644",
   "metadata": {},
   "outputs": [
    {
     "name": "stdout",
     "output_type": "stream",
     "text": [
      "Enter the range:10\n"
     ]
    },
    {
     "data": {
      "text/plain": [
       "'0,2,4,6,8,10'"
      ]
     },
     "execution_count": 21,
     "metadata": {},
     "output_type": "execute_result"
    }
   ],
   "source": [
    "generato_even()"
   ]
  },
  {
   "cell_type": "markdown",
   "id": "b38862a2",
   "metadata": {},
   "source": [
    "Question 3:\n",
    "The Fibonacci Sequence is computed based on the following formula:\n",
    "f(n)=0 if n=0\n",
    "f(n)=1 if n=1\n",
    "f(n)=f(n-1)+f(n-2) if n>1\n",
    "Please write a program using list comprehension to print the Fibonacci Sequence in comma separated form with a given n input by console.\n",
    "Example:\n",
    "If the following n is given as input to the program:\n",
    "7\n",
    "\n",
    "Then, the output of the program should be:\n",
    "0,1,1,2,3,5,8,13\n"
   ]
  },
  {
   "cell_type": "code",
   "execution_count": 4,
   "id": "0d5ba5d5",
   "metadata": {},
   "outputs": [
    {
     "name": "stdout",
     "output_type": "stream",
     "text": [
      "Enter value:7\n",
      "0,1,1,2,3,5,8,13\n"
     ]
    }
   ],
   "source": [
    "def f(n) :\n",
    "    if n==0:\n",
    "        return 0\n",
    "    if n==1 :\n",
    "        return 1\n",
    "    else :\n",
    "        return f(n-1)+f(n-2) \n",
    "    \n",
    "n = int(input(\"Enter value:\"))\n",
    "l2 = list()\n",
    "for i in range(0,n+1):\n",
    "    val = (str(f(i)))\n",
    "    l2.append(val)\n",
    "print(\",\".join(l2))\n",
    "        \n",
    "            \n",
    "    "
   ]
  },
  {
   "cell_type": "markdown",
   "id": "4c321d59",
   "metadata": {},
   "source": [
    "Question 4:\n",
    "Assuming that we have some email addresses in the \"username@companyname.com\" format, please write program to print the user name of a given email address. Both user names and company names are composed of letters only.\n",
    "Example:\n",
    "If the following email address is given as input to the program:\n",
    "john@google.com\n",
    "Then, the output of the program should be:\n",
    "john\n"
   ]
  },
  {
   "cell_type": "code",
   "execution_count": 24,
   "id": "3c576a92",
   "metadata": {},
   "outputs": [],
   "source": [
    "def emailid() :\n",
    "    n = input(\"Enter the email ID:\")\n",
    "    split_value = n.split('@')\n",
    "    print(f\"Username is :{split_value[0]}\")"
   ]
  },
  {
   "cell_type": "code",
   "execution_count": 27,
   "id": "2435f68c",
   "metadata": {},
   "outputs": [
    {
     "name": "stdout",
     "output_type": "stream",
     "text": [
      "Enter the email ID:john@google.com \n",
      "Username is :john\n"
     ]
    }
   ],
   "source": [
    "emailid() "
   ]
  },
  {
   "cell_type": "markdown",
   "id": "fd416aa8",
   "metadata": {},
   "source": [
    "Question 5:\n",
    "Define a class named Shape and its subclass Square. The Square class has an init function which takes a length as argument. Both classes have a area function which can print the area of the shape where Shape's area is 0 by default."
   ]
  },
  {
   "cell_type": "code",
   "execution_count": 38,
   "id": "7556c81e",
   "metadata": {},
   "outputs": [],
   "source": [
    "class Shape:\n",
    "    def __init__(self):\n",
    "        pass\n",
    "    def area(self,area):\n",
    "        self.area = 0\n",
    "    \n",
    "class Square(Shape):\n",
    "    def __init__(self,length) :\n",
    "        self.length = length\n",
    "    def area(self):\n",
    "        area = self.length*self.length\n",
    "        return area"
   ]
  },
  {
   "cell_type": "code",
   "execution_count": 42,
   "id": "56d2d3df",
   "metadata": {},
   "outputs": [],
   "source": [
    "square = Square(12)"
   ]
  },
  {
   "cell_type": "code",
   "execution_count": 43,
   "id": "5869b635",
   "metadata": {},
   "outputs": [
    {
     "data": {
      "text/plain": [
       "144"
      ]
     },
     "execution_count": 43,
     "metadata": {},
     "output_type": "execute_result"
    }
   ],
   "source": [
    "square.area()"
   ]
  },
  {
   "cell_type": "code",
   "execution_count": null,
   "id": "d7fa41ec",
   "metadata": {},
   "outputs": [],
   "source": []
  }
 ],
 "metadata": {
  "kernelspec": {
   "display_name": "Python 3 (ipykernel)",
   "language": "python",
   "name": "python3"
  },
  "language_info": {
   "codemirror_mode": {
    "name": "ipython",
    "version": 3
   },
   "file_extension": ".py",
   "mimetype": "text/x-python",
   "name": "python",
   "nbconvert_exporter": "python",
   "pygments_lexer": "ipython3",
   "version": "3.9.13"
  }
 },
 "nbformat": 4,
 "nbformat_minor": 5
}

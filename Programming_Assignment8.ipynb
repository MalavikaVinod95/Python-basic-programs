{
 "cells": [
  {
   "cell_type": "markdown",
   "id": "0d0a8771",
   "metadata": {},
   "source": [
    "1.Write a Python Program to Add Two Matrices?"
   ]
  },
  {
   "cell_type": "code",
   "execution_count": 26,
   "id": "685f7248",
   "metadata": {},
   "outputs": [
    {
     "name": "stdout",
     "output_type": "stream",
     "text": [
      "The first matrix is: \n",
      " [[1, 4, 5, 12], [-5, 8, 9, 0], [-6, 7, 11, 19]]\n",
      "\n",
      "The second matrix is:\n",
      " [[2, 5, 7, 10], [4, 9, 11, 1], [-2, 6, 9, 20]]\n",
      "\n",
      "The sum of 2 matrices are: \n",
      " [[ 3  9 12 22]\n",
      " [-1 17 20  1]\n",
      " [-8 13 20 39]]\n"
     ]
    }
   ],
   "source": [
    "import numpy as np\n",
    "A = [[1, 4, 5, 12], \n",
    "    [-5, 8, 9, 0],\n",
    "    [-6, 7, 11, 19]]\n",
    "B=[[2, 5, 7, 10], \n",
    "    [4, 9, 11, 1],\n",
    "    [-2, 6, 9, 20]]\n",
    "addition = np.add(A,B)\n",
    "print(f\"The first matrix is: \\n {A}\")\n",
    "print(f\"\\nThe second matrix is:\\n {B}\")\n",
    "print(f\"\\nThe sum of 2 matrices are: \\n {addition}\")"
   ]
  },
  {
   "cell_type": "markdown",
   "id": "19b3ac68",
   "metadata": {},
   "source": [
    "2.Write a Python Program to Multiply Two Matrices?"
   ]
  },
  {
   "cell_type": "code",
   "execution_count": 27,
   "id": "8bd585d4",
   "metadata": {},
   "outputs": [
    {
     "name": "stdout",
     "output_type": "stream",
     "text": [
      "The first matrix is: \n",
      " [[12, 7, 3], [4, 5, 6], [7, 8, 9]]\n",
      "\n",
      "The second matrix is: \n",
      " [[5, 8, 1, 2], [6, 7, 3, 0], [4, 5, 9, 1]]\n",
      "\n",
      "The product of 2 matrices are: \n",
      " [[114 160  60  27]\n",
      " [ 74  97  73  14]\n",
      " [119 157 112  23]]\n"
     ]
    }
   ],
   "source": [
    "import numpy as np\n",
    "X = [[12,7,3],\n",
    "    [4 ,5,6],\n",
    "    [7 ,8,9]]\n",
    "\n",
    "Y = [[5,8,1,2],\n",
    "    [6,7,3,0],\n",
    "    [4,5,9,1]]\n",
    "\n",
    "res= np.matrix(X) @ np.matrix(Y)\n",
    "\n",
    "print(f\"The first matrix is: \\n {X}\")\n",
    "print(f\"\\nThe second matrix is: \\n {Y}\")\n",
    "print(f\"\\nThe product of 2 matrices are: \\n {res}\")"
   ]
  },
  {
   "cell_type": "markdown",
   "id": "10c507e3",
   "metadata": {},
   "source": [
    "3.Write a Python Program to Transpose a Matrix?"
   ]
  },
  {
   "cell_type": "code",
   "execution_count": 31,
   "id": "6fb97930",
   "metadata": {},
   "outputs": [
    {
     "name": "stdout",
     "output_type": "stream",
     "text": [
      "The transpose of a matrix is:\n",
      " [[1 4 7]\n",
      " [2 5 8]\n",
      " [3 6 9]]\n"
     ]
    }
   ],
   "source": [
    "import numpy as np\n",
    "Z= [[1 ,2, 3],\n",
    "    [4 ,5,6],\n",
    "    [7 ,8,9]]\n",
    "print(f\"The transpose of a matrix is:\\n {np.matrix(Z).T}\")"
   ]
  },
  {
   "cell_type": "markdown",
   "id": "b109f829",
   "metadata": {},
   "source": [
    "4.Write a Python Program to Sort Words in Alphabetic Order?"
   ]
  },
  {
   "cell_type": "code",
   "execution_count": 44,
   "id": "2ba3717b",
   "metadata": {},
   "outputs": [
    {
     "name": "stdout",
     "output_type": "stream",
     "text": [
      "Enter the word to be sorted:My name is Tommy Xavier\n",
      "The sorted word is: is my name tommy xavier\n"
     ]
    }
   ],
   "source": [
    "word = input(\"Enter the word to be sorted:\")\n",
    "w = word.split(\" \")\n",
    "for i in range(len(w)):\n",
    "    w[i] = w[i].lower()\n",
    "sort_word = sorted(w)  \n",
    "print(f\"The sorted word is: {' '.join(sort_word)}\")    "
   ]
  },
  {
   "cell_type": "markdown",
   "id": "cadd9e73",
   "metadata": {},
   "source": [
    "5.Write a Python Program to Remove Punctuation From a String?"
   ]
  },
  {
   "cell_type": "code",
   "execution_count": 9,
   "id": "2dd69aed",
   "metadata": {},
   "outputs": [
    {
     "name": "stdout",
     "output_type": "stream",
     "text": [
      "Enter the word:Hi There!! It's me Malavika...\n",
      "Hi There Its me Malavika\n"
     ]
    }
   ],
   "source": [
    "word = input(\"Enter the word:\")\n",
    "puct = '''!()-[]{};:'\"\\,<>./?@#$%^&*_~'''\n",
    "for i in word:\n",
    "    if i in puct:\n",
    "        word = word.replace(i,\"\")\n",
    "print(word)"
   ]
  },
  {
   "cell_type": "code",
   "execution_count": null,
   "id": "3f1fd11d",
   "metadata": {},
   "outputs": [],
   "source": []
  }
 ],
 "metadata": {
  "kernelspec": {
   "display_name": "Python 3 (ipykernel)",
   "language": "python",
   "name": "python3"
  },
  "language_info": {
   "codemirror_mode": {
    "name": "ipython",
    "version": 3
   },
   "file_extension": ".py",
   "mimetype": "text/x-python",
   "name": "python",
   "nbconvert_exporter": "python",
   "pygments_lexer": "ipython3",
   "version": "3.9.13"
  }
 },
 "nbformat": 4,
 "nbformat_minor": 5
}

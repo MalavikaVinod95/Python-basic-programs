{
 "cells": [
  {
   "cell_type": "markdown",
   "id": "e5099209",
   "metadata": {},
   "source": [
    "1.Write a Python program to print \"Hello Python\"?"
   ]
  },
  {
   "cell_type": "code",
   "execution_count": 1,
   "id": "098212bb",
   "metadata": {},
   "outputs": [
    {
     "name": "stdout",
     "output_type": "stream",
     "text": [
      "Hello Python\n"
     ]
    }
   ],
   "source": [
    "print(\"Hello Python\")"
   ]
  },
  {
   "cell_type": "markdown",
   "id": "ff321a3b",
   "metadata": {},
   "source": [
    "2.Write a Python program to do arithmetical operations addition and division.?"
   ]
  },
  {
   "cell_type": "code",
   "execution_count": 4,
   "id": "8d06975a",
   "metadata": {},
   "outputs": [
    {
     "name": "stdout",
     "output_type": "stream",
     "text": [
      "Enter the first number:10\n",
      "Enter the second number:2\n",
      "The sum is:12\n",
      "The quotient is:5.0\n"
     ]
    }
   ],
   "source": [
    "a = int(input(\"Enter the first number:\"))\n",
    "b = int(input(\"Enter the second number:\"))\n",
    "print(f\"The sum is:{a+b}\")\n",
    "print(f\"The quotient is:{a/b}\")"
   ]
  },
  {
   "cell_type": "markdown",
   "id": "e26d11c5",
   "metadata": {},
   "source": [
    "3.Write a Python program to find the area of a triangle?"
   ]
  },
  {
   "cell_type": "code",
   "execution_count": 1,
   "id": "c5df92e6",
   "metadata": {},
   "outputs": [
    {
     "name": "stdout",
     "output_type": "stream",
     "text": [
      "Enter the height of the triangle:3\n",
      "Enter the base of the triangle:4\n",
      "Area of the triangle is: 6.0\n"
     ]
    }
   ],
   "source": [
    "h = int(input(\"Enter the height of the triangle:\"))\n",
    "b = int(input(\"Enter the base of the triangle:\"))\n",
    "a = (h*b)/2\n",
    "print(\"Area of the triangle is:\",a)"
   ]
  },
  {
   "cell_type": "markdown",
   "id": "87c7b42f",
   "metadata": {},
   "source": [
    "4.Write a Python program to swap two variables?"
   ]
  },
  {
   "cell_type": "code",
   "execution_count": 5,
   "id": "e280a348",
   "metadata": {},
   "outputs": [
    {
     "name": "stdout",
     "output_type": "stream",
     "text": [
      "Enter the first value:3\n",
      "Enter the second value:4\n",
      "The value before swappig is: 3 and 4\n",
      "The value after swapping is: 4 and 3\n"
     ]
    }
   ],
   "source": [
    "x = int(input(\"Enter the first value:\"))\n",
    "y = int(input(\"Enter the second value:\"))\n",
    "print(f\"The value before swappig is: {x} and {y}\")\n",
    "z = 0\n",
    "if x != 0 and y!=0 :\n",
    "    z = x\n",
    "    x = y\n",
    "    y = z\n",
    "    print(f\"The value after swapping is: {x} and {y}\")"
   ]
  },
  {
   "cell_type": "markdown",
   "id": "57726fcd",
   "metadata": {},
   "source": [
    "5.Write a Python program to generate a random number?"
   ]
  },
  {
   "cell_type": "code",
   "execution_count": 8,
   "id": "ee7283b1",
   "metadata": {},
   "outputs": [
    {
     "name": "stdout",
     "output_type": "stream",
     "text": [
      "2\n"
     ]
    }
   ],
   "source": [
    "import random\n",
    "\n",
    "print(random.randint(0,9))"
   ]
  },
  {
   "cell_type": "code",
   "execution_count": null,
   "id": "24ad3010",
   "metadata": {},
   "outputs": [],
   "source": [
    "                              ---------------------END------------------------------"
   ]
  }
 ],
 "metadata": {
  "kernelspec": {
   "display_name": "Python 3 (ipykernel)",
   "language": "python",
   "name": "python3"
  },
  "language_info": {
   "codemirror_mode": {
    "name": "ipython",
    "version": 3
   },
   "file_extension": ".py",
   "mimetype": "text/x-python",
   "name": "python",
   "nbconvert_exporter": "python",
   "pygments_lexer": "ipython3",
   "version": "3.9.13"
  }
 },
 "nbformat": 4,
 "nbformat_minor": 5
}

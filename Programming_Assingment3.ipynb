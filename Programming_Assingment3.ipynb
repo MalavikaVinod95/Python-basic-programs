{
 "cells": [
  {
   "cell_type": "markdown",
   "id": "3148b4bb",
   "metadata": {},
   "source": [
    "1.Write a Python Program to Check if a Number is Positive, Negative or Zero?"
   ]
  },
  {
   "cell_type": "code",
   "execution_count": 7,
   "id": "e1b529ec",
   "metadata": {},
   "outputs": [
    {
     "name": "stdout",
     "output_type": "stream",
     "text": [
      "Enter a number:-2\n",
      "The number is negative\n"
     ]
    }
   ],
   "source": [
    "num = int(input(\"Enter a number:\"))\n",
    "if num > 0 :\n",
    "    print(\"The number is positive\")\n",
    "elif num ==0 :\n",
    "    print(\"The number is zero\")\n",
    "else :\n",
    "    print(\"The number is negative\")"
   ]
  },
  {
   "cell_type": "markdown",
   "id": "a0fd6af4",
   "metadata": {},
   "source": [
    "2.Write a Python Program to Check if a Number is Odd or Even?"
   ]
  },
  {
   "cell_type": "code",
   "execution_count": 9,
   "id": "6b23ddc4",
   "metadata": {},
   "outputs": [
    {
     "name": "stdout",
     "output_type": "stream",
     "text": [
      "Enter the number:57\n",
      "57 is an odd number\n"
     ]
    }
   ],
   "source": [
    "val = int(input(\"Enter the number:\"))\n",
    "if val%2 == 0 :\n",
    "    print(f\"{val} is an even number\")\n",
    "else :\n",
    "    print(f\"{val} is an odd number\")"
   ]
  },
  {
   "cell_type": "markdown",
   "id": "0817d9e9",
   "metadata": {},
   "source": [
    "3.Write a Python Program to Check Leap Year?"
   ]
  },
  {
   "cell_type": "code",
   "execution_count": 8,
   "id": "d4041c42",
   "metadata": {},
   "outputs": [
    {
     "name": "stdout",
     "output_type": "stream",
     "text": [
      "Enter a year:2024\n",
      "2024 is a leap year\n"
     ]
    }
   ],
   "source": [
    "year = int(input(\"Enter a year:\"))\n",
    "if year % 4 == 0 and not(year % 100 == 0):\n",
    "    print(f\"{year} is a leap year\")\n",
    "else:\n",
    "    print(f\"Sorry!! {year} is not a leap year\")\n",
    "       "
   ]
  },
  {
   "cell_type": "markdown",
   "id": "503aea0d",
   "metadata": {},
   "source": [
    "4.Write a Python Program to Check Prime Number?"
   ]
  },
  {
   "cell_type": "code",
   "execution_count": 6,
   "id": "9e9033ba",
   "metadata": {},
   "outputs": [
    {
     "name": "stdout",
     "output_type": "stream",
     "text": [
      "Enter a number:12\n",
      "12 is not a prime number\n"
     ]
    }
   ],
   "source": [
    "prime = int(input(\"Enter a number:\"))\n",
    "for i in range(2,prime) :\n",
    "        if prime % i == 0 :\n",
    "            print(f\"{prime} is not a prime number\")\n",
    "            break\n",
    "else :\n",
    "                 print(f\"{prime} is  a prime number\")\n",
    "    \n",
    "        "
   ]
  },
  {
   "cell_type": "markdown",
   "id": "744a3910",
   "metadata": {},
   "source": [
    "5.Write a Python Program to Print all Prime Numbers in an Interval of 1-10000?"
   ]
  },
  {
   "cell_type": "code",
   "execution_count": 7,
   "id": "c3ed84f8",
   "metadata": {},
   "outputs": [
    {
     "name": "stdout",
     "output_type": "stream",
     "text": [
      "Enter the first value:2\n",
      "Enter the second value20\n",
      "The prime numbers are : \n",
      "2\n",
      "3\n",
      "5\n",
      "7\n",
      "11\n",
      "13\n",
      "17\n",
      "19\n"
     ]
    }
   ],
   "source": [
    "value1 = int(input(\"Enter the first value:\"))\n",
    "value2 = int(input(\"Enter the second value\"))\n",
    "print(f\"The prime numbers are : \")\n",
    "for num in range(value1,value2) :\n",
    "    if num > 1 :\n",
    "        for i in range(2,num) :\n",
    "            if (num % i) == 0 :\n",
    "                break\n",
    "        else :\n",
    "            print(num)\n",
    "                \n",
    "            "
   ]
  },
  {
   "cell_type": "code",
   "execution_count": null,
   "id": "0732a16b",
   "metadata": {},
   "outputs": [],
   "source": [
    "                           ---------------- END ------------------------"
   ]
  },
  {
   "cell_type": "code",
   "execution_count": null,
   "id": "64df8b17",
   "metadata": {},
   "outputs": [],
   "source": []
  }
 ],
 "metadata": {
  "kernelspec": {
   "display_name": "Python 3 (ipykernel)",
   "language": "python",
   "name": "python3"
  },
  "language_info": {
   "codemirror_mode": {
    "name": "ipython",
    "version": 3
   },
   "file_extension": ".py",
   "mimetype": "text/x-python",
   "name": "python",
   "nbconvert_exporter": "python",
   "pygments_lexer": "ipython3",
   "version": "3.9.13"
  }
 },
 "nbformat": 4,
 "nbformat_minor": 5
}
